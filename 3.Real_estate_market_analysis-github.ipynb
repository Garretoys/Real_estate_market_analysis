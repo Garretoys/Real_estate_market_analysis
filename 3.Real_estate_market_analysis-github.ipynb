{
 "cells": [
  {
   "cell_type": "markdown",
   "metadata": {},
   "source": [
    "# Исследование объявлений о продаже квартир\n",
    "\n",
    "В вашем распоряжении данные сервиса Яндекс.Недвижимость — архив объявлений о продаже квартир в Санкт-Петербурге и соседних населённых пунктов за несколько лет. Нужно научиться определять рыночную стоимость объектов недвижимости. Ваша задача — установить параметры. Это позволит построить автоматизированную систему: она отследит аномалии и мошенническую деятельность. \n",
    "\n",
    "По каждой квартире на продажу доступны два вида данных. Первые вписаны пользователем, вторые — получены автоматически на основе картографических данных. Например, расстояние до центра, аэропорта, ближайшего парка и водоёма. "
   ]
  },
  {
   "cell_type": "markdown",
   "metadata": {},
   "source": [
    "## План работы:\n",
    "1. Выделить необходимые столбцы\n",
    "2. Заполнить отсутствующие значения\n",
    "3. Заменить типы данных\n",
    "4. Добавить необходимые столбцы в таблицу\n",
    "5. Добавить гистограммы\n",
    "6. Сводные графики, корреляции\n",
    "7. Топ-10 населенных  пунктов\n",
    "8. Квартиры в центре\n",
    "9. Общий вывод"
   ]
  },
  {
   "cell_type": "markdown",
   "metadata": {},
   "source": [
    "### Шаг 1. Откройте файл с данными и изучите общую информацию. "
   ]
  },
  {
   "cell_type": "code",
   "execution_count": 1,
   "metadata": {
    "scrolled": true
   },
   "outputs": [
    {
     "name": "stdout",
     "output_type": "stream",
     "text": [
      "<class 'pandas.core.frame.DataFrame'>\n",
      "RangeIndex: 23699 entries, 0 to 23698\n",
      "Data columns (total 22 columns):\n",
      "total_images            23699 non-null int64\n",
      "last_price              23699 non-null float64\n",
      "total_area              23699 non-null float64\n",
      "first_day_exposition    23699 non-null object\n",
      "rooms                   23699 non-null int64\n",
      "ceiling_height          14504 non-null float64\n",
      "floors_total            23613 non-null float64\n",
      "living_area             21796 non-null float64\n",
      "floor                   23699 non-null int64\n",
      "is_apartment            2775 non-null object\n",
      "studio                  23699 non-null bool\n",
      "open_plan               23699 non-null bool\n",
      "kitchen_area            21421 non-null float64\n",
      "balcony                 12180 non-null float64\n",
      "locality_name           23650 non-null object\n",
      "airports_nearest        18157 non-null float64\n",
      "cityCenters_nearest     18180 non-null float64\n",
      "parks_around3000        18181 non-null float64\n",
      "parks_nearest           8079 non-null float64\n",
      "ponds_around3000        18181 non-null float64\n",
      "ponds_nearest           9110 non-null float64\n",
      "days_exposition         20518 non-null float64\n",
      "dtypes: bool(2), float64(14), int64(3), object(3)\n",
      "memory usage: 3.7+ MB\n"
     ]
    }
   ],
   "source": [
    "import pandas as pd\n",
    "data = pd.read_csv('/datasets/real_estate_data.csv', sep='\\t')\n",
    "data.info()"
   ]
  },
  {
   "cell_type": "markdown",
   "metadata": {},
   "source": [
    "22 колонки - 22 параметра квартиры, очень много.<br/>\n",
    "Многие столбцы нам не нужны для выполнения поставленных задач. Есть идея.<br/>\n",
    "Соберем свою таблицу! С блэк-джеком, ценой и без ненужных балконов!<br/>\n",
    "Введем новую таблицу, с необходимыми столбцами."
   ]
  },
  {
   "cell_type": "markdown",
   "metadata": {},
   "source": [
    "### Шаг 2. Предобработка данных"
   ]
  },
  {
   "cell_type": "code",
   "execution_count": 2,
   "metadata": {
    "scrolled": true
   },
   "outputs": [
    {
     "name": "stdout",
     "output_type": "stream",
     "text": [
      "<class 'pandas.core.frame.DataFrame'>\n",
      "RangeIndex: 23699 entries, 0 to 23698\n",
      "Data columns (total 12 columns):\n",
      "locality_name           23650 non-null object\n",
      "last_price              23699 non-null float64\n",
      "rooms                   23699 non-null int64\n",
      "total_area              23699 non-null float64\n",
      "living_area             21796 non-null float64\n",
      "kitchen_area            21421 non-null float64\n",
      "ceiling_height          14504 non-null float64\n",
      "floor                   23699 non-null int64\n",
      "floors_total            23613 non-null float64\n",
      "cityCenters_nearest     18180 non-null float64\n",
      "days_exposition         20518 non-null float64\n",
      "first_day_exposition    23699 non-null object\n",
      "dtypes: float64(8), int64(2), object(2)\n",
      "memory usage: 2.2+ MB\n"
     ]
    }
   ],
   "source": [
    "visual_data = data[['locality_name', 'last_price', 'rooms', 'total_area', 'living_area', 'kitchen_area', 'ceiling_height',\n",
    "                     'floor', 'floors_total','cityCenters_nearest', 'days_exposition', 'first_day_exposition']]\n",
    "visual_data.info()"
   ]
  },
  {
   "cell_type": "code",
   "execution_count": 3,
   "metadata": {},
   "outputs": [
    {
     "data": {
      "text/html": [
       "<div>\n",
       "<style scoped>\n",
       "    .dataframe tbody tr th:only-of-type {\n",
       "        vertical-align: middle;\n",
       "    }\n",
       "\n",
       "    .dataframe tbody tr th {\n",
       "        vertical-align: top;\n",
       "    }\n",
       "\n",
       "    .dataframe thead th {\n",
       "        text-align: right;\n",
       "    }\n",
       "</style>\n",
       "<table border=\"1\" class=\"dataframe\">\n",
       "  <thead>\n",
       "    <tr style=\"text-align: right;\">\n",
       "      <th></th>\n",
       "      <th>locality_name</th>\n",
       "      <th>last_price</th>\n",
       "      <th>rooms</th>\n",
       "      <th>total_area</th>\n",
       "      <th>living_area</th>\n",
       "      <th>kitchen_area</th>\n",
       "      <th>ceiling_height</th>\n",
       "      <th>floor</th>\n",
       "      <th>floors_total</th>\n",
       "      <th>cityCenters_nearest</th>\n",
       "      <th>days_exposition</th>\n",
       "      <th>first_day_exposition</th>\n",
       "    </tr>\n",
       "  </thead>\n",
       "  <tbody>\n",
       "    <tr>\n",
       "      <td>0</td>\n",
       "      <td>Санкт-Петербург</td>\n",
       "      <td>13000000.0</td>\n",
       "      <td>3</td>\n",
       "      <td>108.00</td>\n",
       "      <td>51.00</td>\n",
       "      <td>25.00</td>\n",
       "      <td>2.70</td>\n",
       "      <td>8</td>\n",
       "      <td>16.0</td>\n",
       "      <td>16028.0</td>\n",
       "      <td>NaN</td>\n",
       "      <td>2019-03-07T00:00:00</td>\n",
       "    </tr>\n",
       "    <tr>\n",
       "      <td>1</td>\n",
       "      <td>посёлок Шушары</td>\n",
       "      <td>3350000.0</td>\n",
       "      <td>1</td>\n",
       "      <td>40.40</td>\n",
       "      <td>18.60</td>\n",
       "      <td>11.00</td>\n",
       "      <td>NaN</td>\n",
       "      <td>1</td>\n",
       "      <td>11.0</td>\n",
       "      <td>18603.0</td>\n",
       "      <td>81.0</td>\n",
       "      <td>2018-12-04T00:00:00</td>\n",
       "    </tr>\n",
       "    <tr>\n",
       "      <td>2</td>\n",
       "      <td>Санкт-Петербург</td>\n",
       "      <td>5196000.0</td>\n",
       "      <td>2</td>\n",
       "      <td>56.00</td>\n",
       "      <td>34.30</td>\n",
       "      <td>8.30</td>\n",
       "      <td>NaN</td>\n",
       "      <td>4</td>\n",
       "      <td>5.0</td>\n",
       "      <td>13933.0</td>\n",
       "      <td>558.0</td>\n",
       "      <td>2015-08-20T00:00:00</td>\n",
       "    </tr>\n",
       "    <tr>\n",
       "      <td>3</td>\n",
       "      <td>Санкт-Петербург</td>\n",
       "      <td>64900000.0</td>\n",
       "      <td>3</td>\n",
       "      <td>159.00</td>\n",
       "      <td>NaN</td>\n",
       "      <td>NaN</td>\n",
       "      <td>NaN</td>\n",
       "      <td>9</td>\n",
       "      <td>14.0</td>\n",
       "      <td>6800.0</td>\n",
       "      <td>424.0</td>\n",
       "      <td>2015-07-24T00:00:00</td>\n",
       "    </tr>\n",
       "    <tr>\n",
       "      <td>4</td>\n",
       "      <td>Санкт-Петербург</td>\n",
       "      <td>10000000.0</td>\n",
       "      <td>2</td>\n",
       "      <td>100.00</td>\n",
       "      <td>32.00</td>\n",
       "      <td>41.00</td>\n",
       "      <td>3.03</td>\n",
       "      <td>13</td>\n",
       "      <td>14.0</td>\n",
       "      <td>8098.0</td>\n",
       "      <td>121.0</td>\n",
       "      <td>2018-06-19T00:00:00</td>\n",
       "    </tr>\n",
       "    <tr>\n",
       "      <td>5</td>\n",
       "      <td>городской посёлок Янино-1</td>\n",
       "      <td>2890000.0</td>\n",
       "      <td>1</td>\n",
       "      <td>30.40</td>\n",
       "      <td>14.40</td>\n",
       "      <td>9.10</td>\n",
       "      <td>NaN</td>\n",
       "      <td>5</td>\n",
       "      <td>12.0</td>\n",
       "      <td>NaN</td>\n",
       "      <td>55.0</td>\n",
       "      <td>2018-09-10T00:00:00</td>\n",
       "    </tr>\n",
       "    <tr>\n",
       "      <td>6</td>\n",
       "      <td>посёлок Парголово</td>\n",
       "      <td>3700000.0</td>\n",
       "      <td>1</td>\n",
       "      <td>37.30</td>\n",
       "      <td>10.60</td>\n",
       "      <td>14.40</td>\n",
       "      <td>NaN</td>\n",
       "      <td>6</td>\n",
       "      <td>26.0</td>\n",
       "      <td>19143.0</td>\n",
       "      <td>155.0</td>\n",
       "      <td>2017-11-02T00:00:00</td>\n",
       "    </tr>\n",
       "    <tr>\n",
       "      <td>7</td>\n",
       "      <td>Санкт-Петербург</td>\n",
       "      <td>7915000.0</td>\n",
       "      <td>2</td>\n",
       "      <td>71.60</td>\n",
       "      <td>NaN</td>\n",
       "      <td>18.90</td>\n",
       "      <td>NaN</td>\n",
       "      <td>22</td>\n",
       "      <td>24.0</td>\n",
       "      <td>11634.0</td>\n",
       "      <td>NaN</td>\n",
       "      <td>2019-04-18T00:00:00</td>\n",
       "    </tr>\n",
       "    <tr>\n",
       "      <td>8</td>\n",
       "      <td>посёлок Мурино</td>\n",
       "      <td>2900000.0</td>\n",
       "      <td>1</td>\n",
       "      <td>33.16</td>\n",
       "      <td>15.43</td>\n",
       "      <td>8.81</td>\n",
       "      <td>NaN</td>\n",
       "      <td>26</td>\n",
       "      <td>27.0</td>\n",
       "      <td>NaN</td>\n",
       "      <td>189.0</td>\n",
       "      <td>2018-05-23T00:00:00</td>\n",
       "    </tr>\n",
       "    <tr>\n",
       "      <td>9</td>\n",
       "      <td>Санкт-Петербург</td>\n",
       "      <td>5400000.0</td>\n",
       "      <td>3</td>\n",
       "      <td>61.00</td>\n",
       "      <td>43.60</td>\n",
       "      <td>6.50</td>\n",
       "      <td>2.50</td>\n",
       "      <td>7</td>\n",
       "      <td>9.0</td>\n",
       "      <td>15008.0</td>\n",
       "      <td>289.0</td>\n",
       "      <td>2017-02-26T00:00:00</td>\n",
       "    </tr>\n",
       "  </tbody>\n",
       "</table>\n",
       "</div>"
      ],
      "text/plain": [
       "               locality_name  last_price  rooms  total_area  living_area  \\\n",
       "0            Санкт-Петербург  13000000.0      3      108.00        51.00   \n",
       "1             посёлок Шушары   3350000.0      1       40.40        18.60   \n",
       "2            Санкт-Петербург   5196000.0      2       56.00        34.30   \n",
       "3            Санкт-Петербург  64900000.0      3      159.00          NaN   \n",
       "4            Санкт-Петербург  10000000.0      2      100.00        32.00   \n",
       "5  городской посёлок Янино-1   2890000.0      1       30.40        14.40   \n",
       "6          посёлок Парголово   3700000.0      1       37.30        10.60   \n",
       "7            Санкт-Петербург   7915000.0      2       71.60          NaN   \n",
       "8             посёлок Мурино   2900000.0      1       33.16        15.43   \n",
       "9            Санкт-Петербург   5400000.0      3       61.00        43.60   \n",
       "\n",
       "   kitchen_area  ceiling_height  floor  floors_total  cityCenters_nearest  \\\n",
       "0         25.00            2.70      8          16.0              16028.0   \n",
       "1         11.00             NaN      1          11.0              18603.0   \n",
       "2          8.30             NaN      4           5.0              13933.0   \n",
       "3           NaN             NaN      9          14.0               6800.0   \n",
       "4         41.00            3.03     13          14.0               8098.0   \n",
       "5          9.10             NaN      5          12.0                  NaN   \n",
       "6         14.40             NaN      6          26.0              19143.0   \n",
       "7         18.90             NaN     22          24.0              11634.0   \n",
       "8          8.81             NaN     26          27.0                  NaN   \n",
       "9          6.50            2.50      7           9.0              15008.0   \n",
       "\n",
       "   days_exposition first_day_exposition  \n",
       "0              NaN  2019-03-07T00:00:00  \n",
       "1             81.0  2018-12-04T00:00:00  \n",
       "2            558.0  2015-08-20T00:00:00  \n",
       "3            424.0  2015-07-24T00:00:00  \n",
       "4            121.0  2018-06-19T00:00:00  \n",
       "5             55.0  2018-09-10T00:00:00  \n",
       "6            155.0  2017-11-02T00:00:00  \n",
       "7              NaN  2019-04-18T00:00:00  \n",
       "8            189.0  2018-05-23T00:00:00  \n",
       "9            289.0  2017-02-26T00:00:00  "
      ]
     },
     "execution_count": 3,
     "metadata": {},
     "output_type": "execute_result"
    }
   ],
   "source": [
    "visual_data.head(10)"
   ]
  },
  {
   "cell_type": "code",
   "execution_count": 4,
   "metadata": {},
   "outputs": [
    {
     "data": {
      "text/plain": [
       "0"
      ]
     },
     "execution_count": 4,
     "metadata": {},
     "output_type": "execute_result"
    }
   ],
   "source": [
    "visual_data.duplicated().sum()"
   ]
  },
  {
   "cell_type": "markdown",
   "metadata": {},
   "source": [
    "0 дубликатов!"
   ]
  },
  {
   "cell_type": "code",
   "execution_count": 5,
   "metadata": {
    "scrolled": false
   },
   "outputs": [
    {
     "data": {
      "text/plain": [
       "locality_name             49\n",
       "last_price                 0\n",
       "rooms                      0\n",
       "total_area                 0\n",
       "living_area             1903\n",
       "kitchen_area            2278\n",
       "ceiling_height          9195\n",
       "floor                      0\n",
       "floors_total              86\n",
       "cityCenters_nearest     5519\n",
       "days_exposition         3181\n",
       "first_day_exposition       0\n",
       "dtype: int64"
      ]
     },
     "execution_count": 5,
     "metadata": {},
     "output_type": "execute_result"
    }
   ],
   "source": [
    "visual_data.isna().sum()"
   ]
  },
  {
   "cell_type": "markdown",
   "metadata": {},
   "source": [
    "#### Пропуски"
   ]
  },
  {
   "cell_type": "markdown",
   "metadata": {},
   "source": [
    "Обнаружили пропуски в следующих столбцах:\n",
    "1. locality_name. 49 значений. Населенный пункт, мало отсутствующих значений, можно проигнорировать.\n",
    "2. living_area. 1903 значения. Жилая площадь - важный показатель. Есть предположение, что этот параметр очень сильно зависит от общей площади, надо обязательно проверить! Дополнительно проверим, как сильно зависит жилая площадь от стоимости квартиры и количества комнат. \n",
    "3. kitchen_area. 2278 значений. Площадь кухни можно заменить процентным показателем от общей площади, перед этим проверив корреляцию, конечно.\n",
    "4. ceiling_height. 9195 значений. Высота потолков может быть восстановлена. Попробуем найти связь с этажностью.\n",
    "5. floors_total. 86 значений. Оставим без изменений.\n",
    "6. cityCenters_nearest. 5519 значений. Оставим без изменений. \n",
    "7. days_exposition. 3181 значение. Оставим без изменений, но попробуем установить причину пропусков. Возможно, количество дней публикации не установлено, потому что эти квартиры ещё не проданы. \n",
    "\n",
    "Необходимо сначала определить **все** созависимости на начальных данных и только после этого вносить корректировки."
   ]
  },
  {
   "cell_type": "markdown",
   "metadata": {},
   "source": [
    "#### Выявление созависимостей"
   ]
  },
  {
   "cell_type": "markdown",
   "metadata": {},
   "source": [
    "1. Жилая площадь:"
   ]
  },
  {
   "cell_type": "code",
   "execution_count": 6,
   "metadata": {
    "scrolled": true
   },
   "outputs": [
    {
     "data": {
      "text/plain": [
       "0.9395373338721491"
      ]
     },
     "execution_count": 6,
     "metadata": {},
     "output_type": "execute_result"
    }
   ],
   "source": [
    "visual_data['living_area'].corr(visual_data['total_area'])"
   ]
  },
  {
   "cell_type": "code",
   "execution_count": 7,
   "metadata": {
    "scrolled": false
   },
   "outputs": [
    {
     "data": {
      "text/plain": [
       "0.8459774567888746"
      ]
     },
     "execution_count": 7,
     "metadata": {},
     "output_type": "execute_result"
    }
   ],
   "source": [
    "visual_data['living_area'].corr(visual_data['rooms'])"
   ]
  },
  {
   "cell_type": "code",
   "execution_count": 8,
   "metadata": {
    "scrolled": true
   },
   "outputs": [
    {
     "data": {
      "text/plain": [
       "0.5664915336952648"
      ]
     },
     "execution_count": 8,
     "metadata": {},
     "output_type": "execute_result"
    }
   ],
   "source": [
    "visual_data['living_area'].corr(visual_data['last_price'])"
   ]
  },
  {
   "cell_type": "markdown",
   "metadata": {},
   "source": [
    "Наши предположения подтвердились, ура!\n",
    "\n",
    "Больше всего жилая площадь зависит от общей площади, а также довольно сильно зависит от количества комнат.\n",
    "\n",
    "Существенно ниже зависимость от цены, но это относительно лидирующих корреляций, в целом зависимость тоже существенная."
   ]
  },
  {
   "cell_type": "code",
   "execution_count": 9,
   "metadata": {},
   "outputs": [
    {
     "data": {
      "text/plain": [
       "1903"
      ]
     },
     "execution_count": 9,
     "metadata": {},
     "output_type": "execute_result"
    }
   ],
   "source": [
    "data['living_area'].isna().sum()"
   ]
  },
  {
   "cell_type": "code",
   "execution_count": 10,
   "metadata": {},
   "outputs": [],
   "source": [
    "living_area_ratio = (data['living_area'] / data['total_area']).mean()"
   ]
  },
  {
   "cell_type": "code",
   "execution_count": 11,
   "metadata": {},
   "outputs": [
    {
     "data": {
      "text/plain": [
       "34.457852427601395"
      ]
     },
     "execution_count": 11,
     "metadata": {},
     "output_type": "execute_result"
    }
   ],
   "source": [
    "data['living_area'].mean()"
   ]
  },
  {
   "cell_type": "code",
   "execution_count": 12,
   "metadata": {},
   "outputs": [
    {
     "data": {
      "text/plain": [
       "30.0"
      ]
     },
     "execution_count": 12,
     "metadata": {},
     "output_type": "execute_result"
    }
   ],
   "source": [
    "data['living_area'].median()"
   ]
  },
  {
   "cell_type": "markdown",
   "metadata": {},
   "source": [
    "Напишем функцию, для замены отсутствующих значений в колонке жилой площади, в зависимости от общей площади:"
   ]
  },
  {
   "cell_type": "code",
   "execution_count": 13,
   "metadata": {},
   "outputs": [],
   "source": [
    "import numpy as np\n",
    "\n",
    "def fill_na_living(row):\n",
    "    if np.isnan(row['living_area']):\n",
    "        return row['total_area'] * living_area_ratio\n",
    "    return row['living_area']"
   ]
  },
  {
   "cell_type": "code",
   "execution_count": 14,
   "metadata": {},
   "outputs": [],
   "source": [
    "data['living_area'] = data.apply(fill_na_living, axis=1)"
   ]
  },
  {
   "cell_type": "code",
   "execution_count": 15,
   "metadata": {},
   "outputs": [
    {
     "data": {
      "text/plain": [
       "0"
      ]
     },
     "execution_count": 15,
     "metadata": {},
     "output_type": "execute_result"
    }
   ],
   "source": [
    "data['living_area'].isna().sum()"
   ]
  },
  {
   "cell_type": "code",
   "execution_count": 16,
   "metadata": {},
   "outputs": [
    {
     "data": {
      "text/plain": [
       "34.562480463165144"
      ]
     },
     "execution_count": 16,
     "metadata": {},
     "output_type": "execute_result"
    }
   ],
   "source": [
    "data['living_area'].mean()"
   ]
  },
  {
   "cell_type": "code",
   "execution_count": 17,
   "metadata": {},
   "outputs": [
    {
     "data": {
      "text/plain": [
       "30.0"
      ]
     },
     "execution_count": 17,
     "metadata": {},
     "output_type": "execute_result"
    }
   ],
   "source": [
    "data['living_area'].median()"
   ]
  },
  {
   "cell_type": "markdown",
   "metadata": {},
   "source": [
    "0 отсутсвующих значений, средняя и медиана почти не изменились. Можно себя поздравить!"
   ]
  },
  {
   "cell_type": "markdown",
   "metadata": {},
   "source": [
    "2. Площадь кухни:"
   ]
  },
  {
   "cell_type": "code",
   "execution_count": 18,
   "metadata": {},
   "outputs": [
    {
     "data": {
      "text/plain": [
       "0.6091211711198314"
      ]
     },
     "execution_count": 18,
     "metadata": {},
     "output_type": "execute_result"
    }
   ],
   "source": [
    "visual_data['kitchen_area'].corr(visual_data['total_area'])"
   ]
  },
  {
   "cell_type": "code",
   "execution_count": 19,
   "metadata": {
    "scrolled": true
   },
   "outputs": [
    {
     "data": {
      "text/plain": [
       "0.42867430668441225"
      ]
     },
     "execution_count": 19,
     "metadata": {},
     "output_type": "execute_result"
    }
   ],
   "source": [
    "visual_data['kitchen_area'].corr(visual_data['living_area'])"
   ]
  },
  {
   "cell_type": "code",
   "execution_count": 20,
   "metadata": {},
   "outputs": [
    {
     "data": {
      "text/plain": [
       "0.5198690130216387"
      ]
     },
     "execution_count": 20,
     "metadata": {},
     "output_type": "execute_result"
    }
   ],
   "source": [
    "visual_data['kitchen_area'].corr(visual_data['last_price'])"
   ]
  },
  {
   "cell_type": "code",
   "execution_count": 21,
   "metadata": {},
   "outputs": [
    {
     "data": {
      "text/plain": [
       "0.26994485416385783"
      ]
     },
     "execution_count": 21,
     "metadata": {},
     "output_type": "execute_result"
    }
   ],
   "source": [
    "visual_data['kitchen_area'].corr(visual_data['rooms'])"
   ]
  },
  {
   "cell_type": "markdown",
   "metadata": {},
   "source": [
    "Наибольшую зависимость видим от общей площади, но достаточно ли её для замены?<br/>\n",
    "Заменим отсутствующие значения согласно общей площади."
   ]
  },
  {
   "cell_type": "code",
   "execution_count": 22,
   "metadata": {},
   "outputs": [],
   "source": [
    "kitchen_area_ratio = (data['kitchen_area'] / data['total_area']).mean()"
   ]
  },
  {
   "cell_type": "code",
   "execution_count": 23,
   "metadata": {},
   "outputs": [
    {
     "data": {
      "text/plain": [
       "2278"
      ]
     },
     "execution_count": 23,
     "metadata": {},
     "output_type": "execute_result"
    }
   ],
   "source": [
    "data['kitchen_area'].isna().sum()"
   ]
  },
  {
   "cell_type": "code",
   "execution_count": 24,
   "metadata": {},
   "outputs": [
    {
     "data": {
      "text/plain": [
       "10.569807198543485"
      ]
     },
     "execution_count": 24,
     "metadata": {},
     "output_type": "execute_result"
    }
   ],
   "source": [
    "data['kitchen_area'].mean()"
   ]
  },
  {
   "cell_type": "code",
   "execution_count": 25,
   "metadata": {},
   "outputs": [
    {
     "data": {
      "text/plain": [
       "9.1"
      ]
     },
     "execution_count": 25,
     "metadata": {},
     "output_type": "execute_result"
    }
   ],
   "source": [
    "data['kitchen_area'].median()"
   ]
  },
  {
   "cell_type": "code",
   "execution_count": 26,
   "metadata": {},
   "outputs": [],
   "source": [
    "import numpy as np\n",
    "\n",
    "def fill_na_kitchen(row):\n",
    "    if np.isnan(row['kitchen_area']):\n",
    "        return row['total_area'] * kitchen_area_ratio\n",
    "    return row['kitchen_area']"
   ]
  },
  {
   "cell_type": "code",
   "execution_count": 27,
   "metadata": {},
   "outputs": [],
   "source": [
    "data['kitchen_area'] = data.apply(fill_na_kitchen, axis=1)"
   ]
  },
  {
   "cell_type": "code",
   "execution_count": 28,
   "metadata": {
    "scrolled": true
   },
   "outputs": [
    {
     "data": {
      "text/plain": [
       "0"
      ]
     },
     "execution_count": 28,
     "metadata": {},
     "output_type": "execute_result"
    }
   ],
   "source": [
    "data['kitchen_area'].isna().sum()"
   ]
  },
  {
   "cell_type": "code",
   "execution_count": 29,
   "metadata": {
    "scrolled": true
   },
   "outputs": [
    {
     "data": {
      "text/plain": [
       "10.57268265834249"
      ]
     },
     "execution_count": 29,
     "metadata": {},
     "output_type": "execute_result"
    }
   ],
   "source": [
    "data['kitchen_area'].mean()"
   ]
  },
  {
   "cell_type": "code",
   "execution_count": 30,
   "metadata": {},
   "outputs": [
    {
     "data": {
      "text/plain": [
       "9.08"
      ]
     },
     "execution_count": 30,
     "metadata": {},
     "output_type": "execute_result"
    }
   ],
   "source": [
    "data['kitchen_area'].median()"
   ]
  },
  {
   "cell_type": "markdown",
   "metadata": {},
   "source": [
    "Средний и медианный показатель практически не изменились. Это успех!"
   ]
  },
  {
   "cell_type": "markdown",
   "metadata": {},
   "source": [
    "3. Высота потолков"
   ]
  },
  {
   "cell_type": "code",
   "execution_count": 31,
   "metadata": {},
   "outputs": [
    {
     "data": {
      "text/plain": [
       "-0.028731894622727346"
      ]
     },
     "execution_count": 31,
     "metadata": {},
     "output_type": "execute_result"
    }
   ],
   "source": [
    "visual_data['ceiling_height'].corr(visual_data['floors_total'])"
   ]
  },
  {
   "cell_type": "code",
   "execution_count": 32,
   "metadata": {},
   "outputs": [
    {
     "data": {
      "text/plain": [
       "-0.011798251030463643"
      ]
     },
     "execution_count": 32,
     "metadata": {},
     "output_type": "execute_result"
    }
   ],
   "source": [
    "visual_data['ceiling_height'].corr(visual_data['floor'])"
   ]
  },
  {
   "cell_type": "code",
   "execution_count": 33,
   "metadata": {
    "scrolled": false
   },
   "outputs": [
    {
     "data": {
      "text/plain": [
       "0.0954904485236636"
      ]
     },
     "execution_count": 33,
     "metadata": {},
     "output_type": "execute_result"
    }
   ],
   "source": [
    "visual_data['ceiling_height'].corr(visual_data['total_area'])"
   ]
  },
  {
   "cell_type": "markdown",
   "metadata": {},
   "source": [
    "Зависимость отсутствует. \n",
    "\n",
    "Если заменить медианами по населенным пунктам, то можем получить сильно искаженную картину.<br/> Очень много населенных пунктов с малым количеством объявлений. \n",
    "\n",
    "Придется заменить высоту потолка медианным показателем."
   ]
  },
  {
   "cell_type": "code",
   "execution_count": 34,
   "metadata": {},
   "outputs": [],
   "source": [
    "ceiling_height_median = data['ceiling_height'].median()"
   ]
  },
  {
   "cell_type": "code",
   "execution_count": 35,
   "metadata": {},
   "outputs": [],
   "source": [
    "data['ceiling_height'] = data['ceiling_height'].fillna(value=ceiling_height_median)"
   ]
  },
  {
   "cell_type": "markdown",
   "metadata": {},
   "source": [
    "Высота потолка более 5метров кажется подозрительной.<br/> Посмотрим, какую часть составляют квартиры с высотой потолка более 5метров, и в случае небольшого показателя - избавимся от них."
   ]
  },
  {
   "cell_type": "code",
   "execution_count": 36,
   "metadata": {},
   "outputs": [
    {
     "data": {
      "text/plain": [
       "0.0015190514367694839"
      ]
     },
     "execution_count": 36,
     "metadata": {},
     "output_type": "execute_result"
    }
   ],
   "source": [
    "(data['ceiling_height'] > 5).mean()"
   ]
  },
  {
   "cell_type": "code",
   "execution_count": 37,
   "metadata": {},
   "outputs": [],
   "source": [
    "data.loc[data['ceiling_height'] > 5, 'ceiling_height'] = ceiling_height_median"
   ]
  },
  {
   "cell_type": "markdown",
   "metadata": {},
   "source": [
    "#### Название населенного пункта"
   ]
  },
  {
   "cell_type": "code",
   "execution_count": 38,
   "metadata": {},
   "outputs": [
    {
     "data": {
      "text/plain": [
       "365"
      ]
     },
     "execution_count": 38,
     "metadata": {},
     "output_type": "execute_result"
    }
   ],
   "source": [
    "len(data['locality_name'].unique())"
   ]
  },
  {
   "cell_type": "markdown",
   "metadata": {},
   "source": [
    "365 названий населенных пунктов. Что-то многовато..."
   ]
  },
  {
   "cell_type": "code",
   "execution_count": 39,
   "metadata": {},
   "outputs": [
    {
     "data": {
      "text/plain": [
       "array(['Санкт-Петербург', 'посёлок Шушары', 'городской посёлок Янино-1',\n",
       "       'посёлок Парголово', 'посёлок Мурино', 'Ломоносов', 'Сертолово',\n",
       "       'Петергоф', 'Пушкин', 'деревня Кудрово', 'Коммунар', 'Колпино',\n",
       "       'поселок городского типа Красный Бор', 'Гатчина', 'поселок Мурино',\n",
       "       'деревня Фёдоровское', 'Выборг', 'Кронштадт', 'Кировск',\n",
       "       'деревня Новое Девяткино', 'посёлок Металлострой',\n",
       "       'посёлок городского типа Лебяжье',\n",
       "       'посёлок городского типа Сиверский', 'поселок Молодцово',\n",
       "       'поселок городского типа Кузьмоловский',\n",
       "       'садовое товарищество Новая Ропша', 'Павловск',\n",
       "       'деревня Пикколово', 'Всеволожск', 'Волхов', 'Кингисепп',\n",
       "       'Приозерск', 'Сестрорецк', 'деревня Куттузи', 'посёлок Аннино',\n",
       "       'поселок городского типа Ефимовский', 'посёлок Плодовое',\n",
       "       'деревня Заклинье', 'поселок Торковичи', 'поселок Первомайское',\n",
       "       'Красное Село', 'посёлок Понтонный', 'Сясьстрой', 'деревня Старая',\n",
       "       'деревня Лесколово', 'посёлок Новый Свет', 'Сланцы',\n",
       "       'село Путилово', 'Ивангород', 'Мурино', 'Шлиссельбург',\n",
       "       'Никольское', 'Зеленогорск', 'Сосновый Бор', 'поселок Новый Свет',\n",
       "       'деревня Оржицы', 'деревня Кальтино', 'Кудрово',\n",
       "       'поселок Романовка', 'посёлок Бугры', 'поселок Бугры',\n",
       "       'поселок городского типа Рощино', 'Кириши', 'Луга', 'Волосово',\n",
       "       'Отрадное', 'село Павлово', 'поселок Оредеж', 'село Копорье',\n",
       "       'посёлок городского типа Красный Бор', 'посёлок Молодёжное',\n",
       "       'Тихвин', 'посёлок Победа', 'деревня Нурма',\n",
       "       'поселок городского типа Синявино', 'Тосно',\n",
       "       'посёлок городского типа Кузьмоловский', 'посёлок Стрельна',\n",
       "       'Бокситогорск', 'посёлок Александровская', 'деревня Лопухинка',\n",
       "       'Пикалёво', 'поселок Терволово',\n",
       "       'поселок городского типа Советский', 'Подпорожье',\n",
       "       'посёлок Петровское', 'посёлок городского типа Токсово',\n",
       "       'поселок Сельцо', 'посёлок городского типа Вырица',\n",
       "       'деревня Кипень', 'деревня Келози', 'деревня Вартемяги',\n",
       "       'посёлок Тельмана', 'поселок Севастьяново',\n",
       "       'городской поселок Большая Ижора', nan,\n",
       "       'городской посёлок Павлово', 'деревня Агалатово',\n",
       "       'посёлок Новогорелово', 'городской посёлок Лесогорский',\n",
       "       'деревня Лаголово', 'поселок Цвелодубово',\n",
       "       'поселок городского типа Рахья', 'поселок городского типа Вырица',\n",
       "       'деревня Белогорка', 'поселок Заводской',\n",
       "       'городской посёлок Новоселье', 'деревня Большие Колпаны',\n",
       "       'деревня Горбунки', 'деревня Батово', 'деревня Заневка',\n",
       "       'деревня Иссад', 'Приморск', 'городской посёлок Фёдоровское',\n",
       "       'деревня Мистолово', 'Новая Ладога', 'поселок Зимитицы',\n",
       "       'поселок Барышево', 'деревня Разметелево',\n",
       "       'поселок городского типа имени Свердлова', 'деревня Пеники',\n",
       "       'поселок Рябово', 'деревня Пудомяги', 'поселок станции Корнево',\n",
       "       'деревня Низино', 'деревня Бегуницы', 'посёлок Поляны',\n",
       "       'городской посёлок Мга', 'поселок Елизаветино',\n",
       "       'посёлок городского типа Кузнечное', 'деревня Колтуши',\n",
       "       'поселок Запорожское', 'посёлок городского типа Рощино',\n",
       "       'деревня Гостилицы', 'деревня Малое Карлино',\n",
       "       'посёлок Мичуринское', 'посёлок городского типа имени Морозова',\n",
       "       'посёлок Песочный', 'посёлок Сосново', 'деревня Аро',\n",
       "       'поселок Ильичёво', 'посёлок городского типа Тайцы',\n",
       "       'деревня Малое Верево', 'деревня Извара', 'поселок станции Вещево',\n",
       "       'село Паша', 'деревня Калитино',\n",
       "       'посёлок городского типа Ульяновка', 'деревня Чудской Бор',\n",
       "       'поселок городского типа Дубровка', 'деревня Мины',\n",
       "       'поселок Войсковицы', 'посёлок городского типа имени Свердлова',\n",
       "       'деревня Коркино', 'посёлок Ропша',\n",
       "       'поселок городского типа Приладожский', 'посёлок Щеглово',\n",
       "       'посёлок Гаврилово', 'Лодейное Поле', 'деревня Рабитицы',\n",
       "       'поселок городского типа Никольский', 'деревня Кузьмолово',\n",
       "       'деревня Малые Колпаны', 'поселок Тельмана',\n",
       "       'посёлок Петро-Славянка', 'городской посёлок Назия',\n",
       "       'посёлок Репино', 'посёлок Ильичёво', 'поселок Углово',\n",
       "       'поселок Старая Малукса', 'садовое товарищество Рахья',\n",
       "       'поселок Аннино', 'поселок Победа', 'деревня Меньково',\n",
       "       'деревня Старые Бегуницы', 'посёлок Сапёрный', 'поселок Семрино',\n",
       "       'поселок Гаврилово', 'поселок Глажево', 'поселок Кобринское',\n",
       "       'деревня Гарболово', 'деревня Юкки',\n",
       "       'поселок станции Приветнинское', 'деревня Мануйлово',\n",
       "       'деревня Пчева', 'поселок Поляны', 'поселок Цвылёво',\n",
       "       'поселок Мельниково', 'посёлок Пудость', 'посёлок Усть-Луга',\n",
       "       'Светогорск', 'Любань', 'поселок Селезнёво',\n",
       "       'поселок городского типа Рябово', 'Каменногорск', 'деревня Кривко',\n",
       "       'поселок Глебычево', 'деревня Парицы', 'поселок Жилпосёлок',\n",
       "       'посёлок городского типа Мга', 'городской поселок Янино-1',\n",
       "       'посёлок Войскорово', 'село Никольское', 'посёлок Терволово',\n",
       "       'поселок Стеклянный', 'посёлок городского типа Важины',\n",
       "       'посёлок Мыза-Ивановка', 'село Русско-Высоцкое',\n",
       "       'поселок городского типа Лебяжье',\n",
       "       'поселок городского типа Форносово', 'село Старая Ладога',\n",
       "       'поселок Житково', 'городской посёлок Виллози', 'деревня Лампово',\n",
       "       'деревня Шпаньково', 'деревня Лаврики', 'посёлок Сумино',\n",
       "       'посёлок Возрождение', 'деревня Старосиверская',\n",
       "       'посёлок Кикерино', 'поселок Возрождение',\n",
       "       'деревня Старое Хинколово', 'посёлок Пригородный',\n",
       "       'посёлок Торфяное', 'городской посёлок Будогощь',\n",
       "       'поселок Суходолье', 'поселок Красная Долина', 'деревня Хапо-Ое',\n",
       "       'поселок городского типа Дружная Горка', 'поселок Лисий Нос',\n",
       "       'деревня Яльгелево', 'посёлок Стеклянный', 'село Рождествено',\n",
       "       'деревня Старополье', 'посёлок Левашово', 'деревня Сяськелево',\n",
       "       'деревня Камышовка',\n",
       "       'садоводческое некоммерческое товарищество Лесная Поляна',\n",
       "       'деревня Хязельки', 'поселок Жилгородок',\n",
       "       'посёлок городского типа Павлово', 'деревня Ялгино',\n",
       "       'поселок Новый Учхоз', 'городской посёлок Рощино',\n",
       "       'поселок Гончарово', 'поселок Почап', 'посёлок Сапёрное',\n",
       "       'посёлок Платформа 69-й километр', 'поселок Каложицы',\n",
       "       'деревня Фалилеево', 'деревня Пельгора',\n",
       "       'поселок городского типа Лесогорский', 'деревня Торошковичи',\n",
       "       'посёлок Белоостров', 'посёлок Алексеевка', 'поселок Серебрянский',\n",
       "       'поселок Лукаши', 'поселок Петровское', 'деревня Щеглово',\n",
       "       'поселок Мичуринское', 'деревня Тарасово', 'поселок Кингисеппский',\n",
       "       'посёлок при железнодорожной станции Вещево', 'поселок Ушаки',\n",
       "       'деревня Котлы', 'деревня Сижно', 'деревня Торосово',\n",
       "       'посёлок Форт Красная Горка', 'поселок городского типа Токсово',\n",
       "       'деревня Новолисино', 'посёлок станции Громово', 'деревня Глинка',\n",
       "       'посёлок Мельниково', 'поселок городского типа Назия',\n",
       "       'деревня Старая Пустошь', 'поселок Коммунары', 'поселок Починок',\n",
       "       'посёлок городского типа Вознесенье', 'деревня Разбегаево',\n",
       "       'посёлок городского типа Рябово', 'поселок Гладкое',\n",
       "       'посёлок при железнодорожной станции Приветнинское',\n",
       "       'поселок Тёсово-4', 'посёлок Жилгородок', 'деревня Бор',\n",
       "       'посёлок Коробицыно', 'деревня Большая Вруда', 'деревня Курковицы',\n",
       "       'посёлок Лисий Нос', 'городской посёлок Советский',\n",
       "       'посёлок Кобралово', 'деревня Суоранда', 'поселок Кобралово',\n",
       "       'поселок городского типа Кондратьево',\n",
       "       'коттеджный поселок Счастье', 'поселок Любань', 'деревня Реброво',\n",
       "       'деревня Зимитицы', 'деревня Тойворово', 'поселок Семиозерье',\n",
       "       'поселок Лесное', 'поселок Совхозный', 'поселок Усть-Луга',\n",
       "       'посёлок Ленинское', 'посёлок Суйда',\n",
       "       'посёлок городского типа Форносово', 'деревня Нижние Осельки',\n",
       "       'посёлок станции Свирь', 'поселок Перово', 'Высоцк',\n",
       "       'поселок Гарболово', 'село Шум', 'поселок Котельский',\n",
       "       'поселок станции Лужайка', 'деревня Большая Пустомержа',\n",
       "       'поселок Красносельское', 'деревня Вахнова Кара', 'деревня Пижма',\n",
       "       'коттеджный поселок Кивеннапа Север', 'поселок Коробицыно',\n",
       "       'поселок Ромашки', 'посёлок Перово', 'деревня Каськово',\n",
       "       'деревня Куровицы', 'посёлок Плоское', 'поселок Сумино',\n",
       "       'поселок городского типа Большая Ижора', 'поселок Кирпичное',\n",
       "       'деревня Ям-Тесово', 'деревня Раздолье', 'деревня Терпилицы',\n",
       "       'посёлок Шугозеро', 'деревня Ваганово', 'поселок Пушное',\n",
       "       'садовое товарищество Садко', 'посёлок Усть-Ижора',\n",
       "       'деревня Выскатка', 'городской посёлок Свирьстрой',\n",
       "       'поселок Громово', 'деревня Кисельня', 'посёлок Старая Малукса',\n",
       "       'деревня Трубников Бор', 'поселок Калитино',\n",
       "       'посёлок Высокоключевой', 'садовое товарищество Приладожский',\n",
       "       'посёлок Пансионат Зелёный Бор', 'деревня Ненимяки',\n",
       "       'поселок Пансионат Зелёный Бор', 'деревня Снегирёвка',\n",
       "       'деревня Рапполово', 'деревня Пустынка', 'поселок Рабитицы',\n",
       "       'деревня Большой Сабск', 'деревня Русско', 'деревня Лупполово',\n",
       "       'деревня Большое Рейзино', 'деревня Малая Романовка',\n",
       "       'поселок Дружноселье', 'поселок Пчевжа', 'поселок Володарское',\n",
       "       'деревня Нижняя', 'коттеджный посёлок Лесное', 'деревня Тихковицы',\n",
       "       'деревня Борисова Грива', 'посёлок Дзержинского'], dtype=object)"
      ]
     },
     "execution_count": 39,
     "metadata": {},
     "output_type": "execute_result"
    }
   ],
   "source": [
    "visual_data['locality_name'].unique()"
   ]
  },
  {
   "cell_type": "markdown",
   "metadata": {},
   "source": [
    "Видим много вариантов написания названий одних и тех же населенных пунктов.\n",
    "\n",
    "Нужно свести к одному регистру, заменить строку с названием 'nan', заменить отсутствующие значения и лемматизировать."
   ]
  },
  {
   "cell_type": "markdown",
   "metadata": {},
   "source": [
    "Посмотрим топ населенных пунктов по количеству объявлений:"
   ]
  },
  {
   "cell_type": "code",
   "execution_count": 40,
   "metadata": {},
   "outputs": [
    {
     "data": {
      "text/plain": [
       "Санкт-Петербург      15721\n",
       "посёлок Мурино         522\n",
       "посёлок Шушары         440\n",
       "Всеволожск             398\n",
       "Пушкин                 369\n",
       "Колпино                338\n",
       "посёлок Парголово      327\n",
       "Гатчина                307\n",
       "деревня Кудрово        299\n",
       "Выборг                 237\n",
       "Name: locality_name, dtype: int64"
      ]
     },
     "execution_count": 40,
     "metadata": {},
     "output_type": "execute_result"
    }
   ],
   "source": [
    "data['locality_name'].value_counts().sort_values(ascending=False).head(10)"
   ]
  },
  {
   "cell_type": "markdown",
   "metadata": {},
   "source": [
    "Естественно, Спб на первом месте, добрую половину составляет. А сколько это \"добрая половина\"?"
   ]
  },
  {
   "cell_type": "code",
   "execution_count": 41,
   "metadata": {
    "scrolled": true
   },
   "outputs": [
    {
     "data": {
      "text/plain": [
       "0.6633613232625849"
      ]
     },
     "execution_count": 41,
     "metadata": {},
     "output_type": "execute_result"
    }
   ],
   "source": [
    "len(data.query('locality_name == \"Санкт-Петербург\"'))/len(data)"
   ]
  },
  {
   "cell_type": "markdown",
   "metadata": {},
   "source": [
    "66% всех квартир из выборки находятся в Санкт-Петербурге.<br/>\n",
    "Интересно, изменится ли эта цифра, да и весь топ-10 после лемматизации?"
   ]
  },
  {
   "cell_type": "markdown",
   "metadata": {},
   "source": [
    "#### Лемматизация"
   ]
  },
  {
   "cell_type": "markdown",
   "metadata": {},
   "source": [
    "Импортируем всё, что может пригодиться:"
   ]
  },
  {
   "cell_type": "code",
   "execution_count": 42,
   "metadata": {},
   "outputs": [],
   "source": [
    "from pymystem3 import Mystem\n",
    "from collections import Counter\n",
    "m = Mystem()"
   ]
  },
  {
   "cell_type": "markdown",
   "metadata": {},
   "source": [
    "Напишем функцию для лемматизации:"
   ]
  },
  {
   "cell_type": "code",
   "execution_count": 43,
   "metadata": {},
   "outputs": [],
   "source": [
    "def to_lemmas(row):\n",
    "        lemmas = m.lemmatize(row)\n",
    "        lemmas_string = ''.join(lemmas).replace('поселок', '').replace('коттеджный', '').replace(\n",
    "            'деревня', '').replace('городской', '').replace('тип', '').replace('село', '').replace(\n",
    "            'садовый', '').replace('товарищество', '').replace('садоводческий', '').replace(\n",
    "            'некоммерческий', '').replace('при железнодорожный станция', '').replace('станция', '')\n",
    "        \n",
    "        return lemmas_string"
   ]
  },
  {
   "cell_type": "markdown",
   "metadata": {},
   "source": [
    "Я не горжусь этим безобразием с реплейсами, но ничего лучше не придумал. :("
   ]
  },
  {
   "cell_type": "markdown",
   "metadata": {},
   "source": [
    "Добавляем новый столбец cо строками из лемм и применяем функцию to_lemmas:"
   ]
  },
  {
   "cell_type": "code",
   "execution_count": 44,
   "metadata": {},
   "outputs": [],
   "source": [
    "data['locality_name'] = data['locality_name'].fillna(value='неизвестно')"
   ]
  },
  {
   "cell_type": "code",
   "execution_count": 45,
   "metadata": {},
   "outputs": [],
   "source": [
    "data['lemmas_string'] = data['locality_name'].apply(to_lemmas)"
   ]
  },
  {
   "cell_type": "code",
   "execution_count": 46,
   "metadata": {},
   "outputs": [
    {
     "data": {
      "text/plain": [
       "санкт-петербург\\n    15721\n",
       " муриный\\n             556\n",
       " шушар\\n               440\n",
       "всеволожск\\n           398\n",
       "пушкин\\n               369\n",
       "колпино\\n              338\n",
       " парголовый\\n          327\n",
       "гатчина\\n              307\n",
       " кудрово\\n             299\n",
       "выборг\\n               237\n",
       "Name: lemmas_string, dtype: int64"
      ]
     },
     "execution_count": 46,
     "metadata": {},
     "output_type": "execute_result"
    }
   ],
   "source": [
    "data['lemmas_string'].value_counts().sort_values(ascending=False).head(10)"
   ]
  },
  {
   "cell_type": "markdown",
   "metadata": {},
   "source": [
    "Изменение цифр наблюдаем только в Мурино, значит процент объявлений в Спб не изменился."
   ]
  },
  {
   "cell_type": "code",
   "execution_count": 47,
   "metadata": {},
   "outputs": [
    {
     "data": {
      "text/plain": [
       "41"
      ]
     },
     "execution_count": 47,
     "metadata": {},
     "output_type": "execute_result"
    }
   ],
   "source": [
    "len(data['locality_name'].unique()) - len(data['lemmas_string'].unique())"
   ]
  },
  {
   "cell_type": "markdown",
   "metadata": {},
   "source": [
    "Избавились от 41 дубля, а это более 10%, не плохо!"
   ]
  },
  {
   "cell_type": "markdown",
   "metadata": {},
   "source": [
    "Поменяем тип данных с float на int в следующих столбцах:\n",
    "last_price, floors_total, cityCenters_nearest, days_exposition\n",
    "\n",
    "Ни в одном из этих значений нас не интересуют цифры после запятой."
   ]
  },
  {
   "cell_type": "code",
   "execution_count": 48,
   "metadata": {},
   "outputs": [],
   "source": [
    "data['last_price'] = data['last_price'].astype('int64')"
   ]
  },
  {
   "cell_type": "code",
   "execution_count": 49,
   "metadata": {},
   "outputs": [],
   "source": [
    "data['floors_total'] = data['floors_total'].astype('Int64')"
   ]
  },
  {
   "cell_type": "code",
   "execution_count": 50,
   "metadata": {},
   "outputs": [],
   "source": [
    "data['cityCenters_nearest'] = data['cityCenters_nearest'].astype('Int64')"
   ]
  },
  {
   "cell_type": "code",
   "execution_count": 51,
   "metadata": {},
   "outputs": [],
   "source": [
    "data['days_exposition'] = data['days_exposition'].round(0).astype('Int64')"
   ]
  },
  {
   "cell_type": "markdown",
   "metadata": {},
   "source": [
    "Изменим тип данных в столбце first_day_exposition."
   ]
  },
  {
   "cell_type": "code",
   "execution_count": 52,
   "metadata": {},
   "outputs": [],
   "source": [
    "data['first_day_exposition'] = pd.to_datetime(data['first_day_exposition'], format='%Y-%m-%dT%H:%M:%S')"
   ]
  },
  {
   "cell_type": "markdown",
   "metadata": {},
   "source": [
    "Посмотрим промежуток времени, за который мы имеем данные:"
   ]
  },
  {
   "cell_type": "code",
   "execution_count": 53,
   "metadata": {
    "scrolled": false
   },
   "outputs": [
    {
     "name": "stdout",
     "output_type": "stream",
     "text": [
      "2014-11-27 00:00:00\n",
      "2019-05-03 00:00:00\n"
     ]
    }
   ],
   "source": [
    "print(data['first_day_exposition'].min())\n",
    "print(data['first_day_exposition'].max())"
   ]
  },
  {
   "cell_type": "markdown",
   "metadata": {},
   "source": [
    "В нашей выборке данные более чем за 4 года."
   ]
  },
  {
   "cell_type": "markdown",
   "metadata": {},
   "source": [
    "### Шаг 3. Посчитайте и добавьте в таблицу"
   ]
  },
  {
   "cell_type": "markdown",
   "metadata": {},
   "source": [
    "Добавим стоимость за квадратный метр в отдельный столбец:"
   ]
  },
  {
   "cell_type": "code",
   "execution_count": 54,
   "metadata": {},
   "outputs": [],
   "source": [
    "data['price_one_square_meter'] = data['last_price'] / data['total_area']\n",
    "data['price_one_square_meter'] = data['price_one_square_meter'].round(0).astype('int64')"
   ]
  },
  {
   "cell_type": "markdown",
   "metadata": {},
   "source": [
    "Добавим столбец с днем недели когда было опубликовано объявление:"
   ]
  },
  {
   "cell_type": "code",
   "execution_count": 55,
   "metadata": {},
   "outputs": [],
   "source": [
    "data['weekday_of_exposition'] = data['first_day_exposition'].dt.weekday"
   ]
  },
  {
   "cell_type": "markdown",
   "metadata": {},
   "source": [
    "Напишем функцию, которая переведет бездушные цифры в приятные сердцу 'понедельники' и 'пятницы'."
   ]
  },
  {
   "cell_type": "code",
   "execution_count": 56,
   "metadata": {},
   "outputs": [],
   "source": [
    "def weekday_of_exposition(row):\n",
    "    weekday = row\n",
    "    if weekday == 0:\n",
    "        return 'понедельник'\n",
    "    if weekday == 1:\n",
    "        return 'вторник'\n",
    "    if weekday == 2:\n",
    "        return 'среда'\n",
    "    if weekday == 3:\n",
    "        return 'четверг'\n",
    "    if weekday == 4:\n",
    "        return 'пятница'\n",
    "    if weekday == 5:\n",
    "        return 'суббота'\n",
    "    if weekday == 6:\n",
    "        return 'воскресенье'\n",
    "    return 'неизвестно'"
   ]
  },
  {
   "cell_type": "code",
   "execution_count": 57,
   "metadata": {},
   "outputs": [],
   "source": [
    "data['weekday_of_exposition'] = data['weekday_of_exposition'].apply(weekday_of_exposition)"
   ]
  },
  {
   "cell_type": "markdown",
   "metadata": {},
   "source": [
    "Добавим ещё 2 колонки, месяц публикации и год публикации. "
   ]
  },
  {
   "cell_type": "code",
   "execution_count": 58,
   "metadata": {},
   "outputs": [],
   "source": [
    "data['month_of_exposition'] = pd.DatetimeIndex(data['first_day_exposition']).month\n",
    "data['year_of_exposition'] = pd.DatetimeIndex(data['first_day_exposition']).year"
   ]
  },
  {
   "cell_type": "markdown",
   "metadata": {},
   "source": [
    "Напишем функцию, которая разложит наши квартиры по трём коробкам с этажами, варианты: первый, последний, другой."
   ]
  },
  {
   "cell_type": "code",
   "execution_count": 59,
   "metadata": {},
   "outputs": [],
   "source": [
    "def group_for_floor(row):\n",
    "    \n",
    "    floor = row['floor']\n",
    "    floors_total = row['floors_total']\n",
    "    try:\n",
    "        if floor == 1:\n",
    "            return 'первый'\n",
    "    \n",
    "        if floor == floors_total:\n",
    "            return 'последний'\n",
    "    \n",
    "        return 'другой'\n",
    "    except: \n",
    "        return 'информации недостаточно'\n",
    "    \n"
   ]
  },
  {
   "cell_type": "code",
   "execution_count": 60,
   "metadata": {},
   "outputs": [],
   "source": [
    "data['group_floor'] = data.apply(group_for_floor, axis=1)"
   ]
  },
  {
   "cell_type": "markdown",
   "metadata": {},
   "source": [
    "Добавим столбцы стоотношения площадей: \n",
    "    1. жилой к общей\n",
    "    2. кухни к общей"
   ]
  },
  {
   "cell_type": "code",
   "execution_count": 61,
   "metadata": {},
   "outputs": [],
   "source": [
    "data['living_of_the_total'] = data['living_area'] / data['total_area']\n",
    "data['kitchen_of_the_total'] = data['kitchen_area'] / data['total_area']"
   ]
  },
  {
   "cell_type": "markdown",
   "metadata": {},
   "source": [
    "Добавим колонку расстояния до центра в километрах:"
   ]
  },
  {
   "cell_type": "code",
   "execution_count": 62,
   "metadata": {},
   "outputs": [],
   "source": [
    "data['cityCenters_nearest_km'] = (data['cityCenters_nearest'] / 1000).round(0)"
   ]
  },
  {
   "cell_type": "markdown",
   "metadata": {},
   "source": [
    "### Шаг 4. Проведите исследовательский анализ данных и выполните инструкции:"
   ]
  },
  {
   "cell_type": "markdown",
   "metadata": {},
   "source": [
    "Cформируем новую таблицу, отбросив выбросы.<br/>\n",
    "Установим следующие параметры новой таблицы:"
   ]
  },
  {
   "cell_type": "markdown",
   "metadata": {},
   "source": [
    "1. Общая площадь менее 300 квадратных метров, большая площадь встречается крайне редко.(не более 0.25% данных)"
   ]
  },
  {
   "cell_type": "code",
   "execution_count": 63,
   "metadata": {},
   "outputs": [
    {
     "data": {
      "text/plain": [
       "0.0025739482678594034"
      ]
     },
     "execution_count": 63,
     "metadata": {},
     "output_type": "execute_result"
    }
   ],
   "source": [
    "(data['total_area'] > 300).mean()"
   ]
  },
  {
   "cell_type": "markdown",
   "metadata": {},
   "source": [
    "2. Стоимость более 700 тысяч и менее 70млн. (не более 0.61% данных)"
   ]
  },
  {
   "cell_type": "code",
   "execution_count": 64,
   "metadata": {},
   "outputs": [
    {
     "data": {
      "text/plain": [
       "0.0029115152538081775"
      ]
     },
     "execution_count": 64,
     "metadata": {},
     "output_type": "execute_result"
    }
   ],
   "source": [
    "(data['last_price'] < 700000).mean()"
   ]
  },
  {
   "cell_type": "code",
   "execution_count": 65,
   "metadata": {},
   "outputs": [
    {
     "data": {
      "text/plain": [
       "0.003206886366513355"
      ]
     },
     "execution_count": 65,
     "metadata": {},
     "output_type": "execute_result"
    }
   ],
   "source": [
    "(data['last_price'] > 70000000).mean()"
   ]
  },
  {
   "cell_type": "markdown",
   "metadata": {},
   "source": [
    "3. Количество комнат не более 6. (не более 0.37% данных)"
   ]
  },
  {
   "cell_type": "code",
   "execution_count": 66,
   "metadata": {},
   "outputs": [
    {
     "data": {
      "text/plain": [
       "0.00379762859192371"
      ]
     },
     "execution_count": 66,
     "metadata": {},
     "output_type": "execute_result"
    }
   ],
   "source": [
    "(data['rooms'] > 6).mean()"
   ]
  },
  {
   "cell_type": "markdown",
   "metadata": {},
   "source": [
    "4. Количество дней продажи установлено. (не более 13.42% данных)\n",
    "Это большая потеря в данных, НО главным(а возможно, и единственным) показателем объективности того или иного \n",
    "предложения о продаже, является **покупка**. \n",
    "Пока квартира не куплена, нельзя делать каких-то выводов, относительно данного предложения. \n",
    "Цена может несоответствовать рыночной, по причине мошеничества, проблем с документами, завышенной цены, и пр. "
   ]
  },
  {
   "cell_type": "code",
   "execution_count": 67,
   "metadata": {
    "scrolled": true
   },
   "outputs": [
    {
     "data": {
      "text/plain": [
       "0.13422507278788134"
      ]
     },
     "execution_count": 67,
     "metadata": {},
     "output_type": "execute_result"
    }
   ],
   "source": [
    "(data['days_exposition'].isnull()).mean()"
   ]
  },
  {
   "cell_type": "code",
   "execution_count": 68,
   "metadata": {
    "scrolled": true
   },
   "outputs": [
    {
     "name": "stdout",
     "output_type": "stream",
     "text": [
      "<class 'pandas.core.frame.DataFrame'>\n",
      "Int64Index: 20331 entries, 1 to 23697\n",
      "Data columns (total 21 columns):\n",
      "locality_name             20331 non-null object\n",
      "lemmas_string             20331 non-null object\n",
      "last_price                20331 non-null int64\n",
      "rooms                     20331 non-null int64\n",
      "total_area                20331 non-null float64\n",
      "living_area               20331 non-null float64\n",
      "kitchen_area              20331 non-null float64\n",
      "ceiling_height            20331 non-null float64\n",
      "floor                     20331 non-null int64\n",
      "floors_total              20254 non-null Int64\n",
      "cityCenters_nearest       15738 non-null Int64\n",
      "days_exposition           20331 non-null Int64\n",
      "first_day_exposition      20331 non-null datetime64[ns]\n",
      "price_one_square_meter    20331 non-null int64\n",
      "weekday_of_exposition     20331 non-null object\n",
      "month_of_exposition       20331 non-null int64\n",
      "year_of_exposition        20331 non-null int64\n",
      "living_of_the_total       20331 non-null float64\n",
      "kitchen_of_the_total      20331 non-null float64\n",
      "cityCenters_nearest_km    15738 non-null float64\n",
      "group_floor               20331 non-null object\n",
      "dtypes: Int64(3), datetime64[ns](1), float64(7), int64(6), object(4)\n",
      "memory usage: 3.5+ MB\n"
     ]
    }
   ],
   "source": [
    "visual_data = data[['locality_name','lemmas_string', 'last_price', 'rooms', 'total_area', 'living_area', \n",
    "                    'kitchen_area', 'ceiling_height',\n",
    "                     'floor', 'floors_total','cityCenters_nearest', \n",
    "                    'days_exposition', 'first_day_exposition','price_one_square_meter',\n",
    "                    'weekday_of_exposition','month_of_exposition','year_of_exposition',\n",
    "                    'living_of_the_total', 'kitchen_of_the_total', 'cityCenters_nearest_km', 'group_floor']]\n",
    "visual_data = visual_data.query(('last_price >= 700000 and last_price <= 70000000 and rooms <= 6 and total_area <= 300'))\n",
    "visual_data = visual_data.dropna(subset=['days_exposition'])\n",
    "visual_data.info()"
   ]
  },
  {
   "cell_type": "code",
   "execution_count": 69,
   "metadata": {},
   "outputs": [
    {
     "data": {
      "text/plain": [
       "0.8578842989155661"
      ]
     },
     "execution_count": 69,
     "metadata": {},
     "output_type": "execute_result"
    }
   ],
   "source": [
    "len(visual_data) / len(data)"
   ]
  },
  {
   "cell_type": "markdown",
   "metadata": {},
   "source": [
    "Потеряли чуть более 14.2% данных. Не так много, если выводы получатся удачными."
   ]
  },
  {
   "cell_type": "markdown",
   "metadata": {},
   "source": [
    "#### Гистограммы и ящики с усами."
   ]
  },
  {
   "cell_type": "code",
   "execution_count": 70,
   "metadata": {},
   "outputs": [],
   "source": [
    "# отключим предупреждения Anaconda\n",
    "import warnings\n",
    "warnings.simplefilter('ignore')"
   ]
  },
  {
   "cell_type": "code",
   "execution_count": 71,
   "metadata": {},
   "outputs": [],
   "source": [
    "# будем отображать графики прямо в jupyter'e\n",
    "%matplotlib inline\n",
    "import seaborn as sns"
   ]
  },
  {
   "cell_type": "code",
   "execution_count": 72,
   "metadata": {},
   "outputs": [],
   "source": [
    "#увеличим дефолтный размер графиков\n",
    "from pylab import rcParams\n",
    "rcParams['figure.figsize'] = 8, 5"
   ]
  },
  {
   "cell_type": "markdown",
   "metadata": {},
   "source": [
    "Построим boxplot и гистограмму для **площадей квартир**:"
   ]
  },
  {
   "cell_type": "code",
   "execution_count": 73,
   "metadata": {},
   "outputs": [
    {
     "data": {
      "image/png": "[encoded data removed]",
      "text/plain": [
       "<Figure size 576x360 with 1 Axes>"
      ]
     },
     "metadata": {
      "needs_background": "light"
     },
     "output_type": "display_data"
    }
   ],
   "source": [
    "import numpy as np\n",
    "import matplotlib.pyplot as plt\n",
    "fig, ax = plt.subplots()\n",
    "plt.ylim(0, 300)\n",
    "visual_data.boxplot('total_area')\n",
    "ax.set_xlabel('Общая площадь')\n",
    "ax.set_ylabel('Квадратные метры')\n",
    "ax.set_title('Площадь квартир, кв.м')\n",
    "plt.show()"
   ]
  },
  {
   "cell_type": "code",
   "execution_count": 74,
   "metadata": {},
   "outputs": [
    {
     "data": {
      "image/png": "[encoded data removed]",
      "text/plain": [
       "<Figure size 576x360 with 1 Axes>"
      ]
     },
     "metadata": {
      "needs_background": "light"
     },
     "output_type": "display_data"
    }
   ],
   "source": [
    "visual_data.hist('total_area', range=(0,300), bins=100)\n",
    "plt.title('Общая площадь квартиры')\n",
    "plt.ylabel('количество квартир')\n",
    "plt.xlabel('квадратные метры')\n",
    "plt.show()"
   ]
  },
  {
   "cell_type": "markdown",
   "metadata": {},
   "source": [
    "Гистограмма и ящик для **цен на квартиры**.<br/>"
   ]
  },
  {
   "cell_type": "code",
   "execution_count": 75,
   "metadata": {
    "scrolled": true
   },
   "outputs": [
    {
     "data": {
      "image/png": "[encoded data removed]",
      "text/plain": [
       "<Figure size 576x360 with 1 Axes>"
      ]
     },
     "metadata": {
      "needs_background": "light"
     },
     "output_type": "display_data"
    }
   ],
   "source": [
    "visual_data.hist('last_price', bins=100)\n",
    "plt.title('Цена квартиры')\n",
    "plt.ylabel('количество квартир')\n",
    "plt.xlabel('десятки миллионов рублей')\n",
    "plt.show()"
   ]
  },
  {
   "cell_type": "code",
   "execution_count": 76,
   "metadata": {
    "scrolled": true
   },
   "outputs": [
    {
     "data": {
      "image/png": "[encoded data removed]",
      "text/plain": [
       "<Figure size 576x360 with 1 Axes>"
      ]
     },
     "metadata": {
      "needs_background": "light"
     },
     "output_type": "display_data"
    }
   ],
   "source": [
    "visual_data.boxplot('last_price').set_title('Цена квартиры')\n",
    "plt.ylim(700000,70000000)\n",
    "plt.ylabel('десятки миллионов рублей')\n",
    "plt.show()"
   ]
  },
  {
   "cell_type": "markdown",
   "metadata": {},
   "source": [
    "Стоимость квартиры чаще всего находится в промежутке от 2млн.рублей до 8млн.рублей."
   ]
  },
  {
   "cell_type": "markdown",
   "metadata": {},
   "source": [
    "Самое простое, графики для **количества комнат**:"
   ]
  },
  {
   "cell_type": "code",
   "execution_count": 77,
   "metadata": {},
   "outputs": [
    {
     "data": {
      "image/png": "[encoded data removed]",
      "text/plain": [
       "<Figure size 576x360 with 1 Axes>"
      ]
     },
     "metadata": {
      "needs_background": "light"
     },
     "output_type": "display_data"
    },
    {
     "data": {
      "image/png": "[encoded data removed]",
      "text/plain": [
       "<Figure size 576x360 with 1 Axes>"
      ]
     },
     "metadata": {
      "needs_background": "light"
     },
     "output_type": "display_data"
    }
   ],
   "source": [
    "visual_data.boxplot('rooms').set_title('Количество комнат в квартире')\n",
    "plt.ylabel('количество комнат')\n",
    "\n",
    "visual_data.hist('rooms')\n",
    "plt.title('Количество комнат в квартире')\n",
    "plt.ylabel('количество квартир')\n",
    "plt.xlabel('количество комнат')\n",
    "plt.show()"
   ]
  },
  {
   "cell_type": "markdown",
   "metadata": {},
   "source": [
    "- Удивительно, но однокомнатных и двухкомнатных квартир в нашей выборке практически одинаковое количество. \n",
    "- На третьем месте 'трёшки', но отставание тоже невелико.\n",
    "- Резкая просадка графиков по квартирам включающим в себя 4 комнаты или более."
   ]
  },
  {
   "cell_type": "markdown",
   "metadata": {},
   "source": [
    "**Высота потолков** не должна удивить:"
   ]
  },
  {
   "cell_type": "code",
   "execution_count": 78,
   "metadata": {
    "scrolled": true
   },
   "outputs": [
    {
     "data": {
      "image/png": "[encoded data removed]",
      "text/plain": [
       "<Figure size 576x360 with 1 Axes>"
      ]
     },
     "metadata": {
      "needs_background": "light"
     },
     "output_type": "display_data"
    },
    {
     "data": {
      "image/png": "[encoded data removed]",
      "text/plain": [
       "<Figure size 576x360 with 1 Axes>"
      ]
     },
     "metadata": {
      "needs_background": "light"
     },
     "output_type": "display_data"
    }
   ],
   "source": [
    "visual_data.boxplot('ceiling_height').set_title('Высота потолков')\n",
    "plt.ylim(2, 5)\n",
    "plt.ylabel('высота потолков в метрах')\n",
    "visual_data.hist('ceiling_height', range=(2,5), bins=30)\n",
    "plt.title('Высота потолков')\n",
    "plt.ylabel('количество квартир')\n",
    "plt.xlabel('высота потолков в метрах')\n",
    "plt.show()"
   ]
  },
  {
   "cell_type": "markdown",
   "metadata": {},
   "source": [
    "Ничего удивительного, средняя высота потолка около 2.5 - 2.7 метра."
   ]
  },
  {
   "cell_type": "markdown",
   "metadata": {},
   "source": [
    "Гистограмма и ящик с усами для **времени продажи квартир**:"
   ]
  },
  {
   "cell_type": "code",
   "execution_count": 79,
   "metadata": {},
   "outputs": [
    {
     "data": {
      "image/png": "[encoded data removed]",
      "text/plain": [
       "<Figure size 576x360 with 1 Axes>"
      ]
     },
     "metadata": {
      "needs_background": "light"
     },
     "output_type": "display_data"
    },
    {
     "data": {
      "image/png": "[encoded data removed]",
      "text/plain": [
       "<Figure size 576x360 with 1 Axes>"
      ]
     },
     "metadata": {
      "needs_background": "light"
     },
     "output_type": "display_data"
    },
    {
     "data": {
      "text/plain": [
       "count    20331.000000\n",
       "mean       180.281737\n",
       "std        219.204078\n",
       "min          1.000000\n",
       "25%         45.000000\n",
       "50%         95.000000\n",
       "75%        231.000000\n",
       "max       1580.000000\n",
       "Name: days_exposition, dtype: float64"
      ]
     },
     "execution_count": 79,
     "metadata": {},
     "output_type": "execute_result"
    }
   ],
   "source": [
    "visual_data.boxplot('days_exposition').set_title('Время продажи')\n",
    "plt.ylabel('сколько дней квартира находилась в продаже')\n",
    "\n",
    "visual_data.hist('days_exposition', bins=100)\n",
    "plt.title('Время продажи')\n",
    "plt.ylabel('количество квартир')\n",
    "plt.xlabel('сколько дней квартира находилась в продаже')\n",
    "plt.show()\n",
    "\n",
    "visual_data['days_exposition'].describe()"
   ]
  },
  {
   "cell_type": "markdown",
   "metadata": {},
   "source": [
    "Дополнительно. \n",
    "Попробуем сравнить с общими показателями, среднее значение тех строк, где отсутствует количество дней публикации.<br/>\n",
    "Максимальная дата публикации, вероятно, является днем прекращения наблюдений (сбора данных в датасет)."
   ]
  },
  {
   "cell_type": "code",
   "execution_count": 80,
   "metadata": {},
   "outputs": [
    {
     "data": {
      "text/plain": [
       "Timestamp('2019-05-03 00:00:00')"
      ]
     },
     "execution_count": 80,
     "metadata": {},
     "output_type": "execute_result"
    }
   ],
   "source": [
    "data['first_day_exposition'].max()"
   ]
  },
  {
   "cell_type": "markdown",
   "metadata": {},
   "source": [
    "Средняя дата в строках с отсутствующими значениями в колонке days_exposition:"
   ]
  },
  {
   "cell_type": "code",
   "execution_count": 81,
   "metadata": {},
   "outputs": [
    {
     "data": {
      "text/plain": [
       "Timestamp('2018-09-27 08:36:58.170386688')"
      ]
     },
     "execution_count": 81,
     "metadata": {},
     "output_type": "execute_result"
    }
   ],
   "source": [
    "data[data['days_exposition'].isnull()]['first_day_exposition'].mean()"
   ]
  },
  {
   "cell_type": "markdown",
   "metadata": {},
   "source": [
    "В итоге имеем следующее среднее предполагаемое кол-во дней публикации:"
   ]
  },
  {
   "cell_type": "code",
   "execution_count": 82,
   "metadata": {
    "scrolled": true
   },
   "outputs": [
    {
     "data": {
      "text/plain": [
       "Timedelta('217 days 15:23:01.829613')"
      ]
     },
     "execution_count": 82,
     "metadata": {},
     "output_type": "execute_result"
    }
   ],
   "source": [
    "data['first_day_exposition'].max() - data[data['days_exposition'].isnull()]['first_day_exposition'].mean()"
   ]
  },
  {
   "cell_type": "markdown",
   "metadata": {},
   "source": [
    "Можно сделать следующие выводы:\n",
    "- Средний показатель существенно больше медианного, почти вдвое;\n",
    "- Обычно продажа занимает около 100 дней;\n",
    "- Если продажа произошла менее чем за 45 дней - можно утверждать, что продажа прошла очень быстро;\n",
    "- Очень быстрые продажи не являются редкостью, если вы продешевили - вашу квартиру быстро купит посредник;\n",
    "- Если продажа прошла более чем за 232 дней, то продажа заняла очень много времени.\n",
    "- 217 дней - средний показатель по значениям, в которых не указано количество дней публикации. И этот показатель находится внутри установленной нами границы \"нормального\" времени продажи [45, 232]. Информация нуждается в дополнительной проверке. Но в любом случае, подставлять пропущенные значения рано, ведь нас интересует количество дней, за которое квартира **будет продана**. А эти квартиры были не проданы на момент выгрузки датасета, при условии верности нашего предположения."
   ]
  },
  {
   "cell_type": "markdown",
   "metadata": {},
   "source": [
    "#### Сводные графики. Определение созависимости."
   ]
  },
  {
   "cell_type": "markdown",
   "metadata": {},
   "source": [
    "##### Зависимость стоимости квартиры от её площади:"
   ]
  },
  {
   "cell_type": "code",
   "execution_count": 83,
   "metadata": {},
   "outputs": [
    {
     "data": {
      "text/plain": [
       "0.7609468720990348"
      ]
     },
     "execution_count": 83,
     "metadata": {},
     "output_type": "execute_result"
    }
   ],
   "source": [
    "visual_data['last_price'].corr(visual_data['total_area'])"
   ]
  },
  {
   "cell_type": "markdown",
   "metadata": {},
   "source": [
    "Высокая степень корреляции - 0,76."
   ]
  },
  {
   "cell_type": "code",
   "execution_count": 84,
   "metadata": {},
   "outputs": [
    {
     "data": {
      "image/png": "[encoded data removed]",
      "text/plain": [
       "<Figure size 864x360 with 1 Axes>"
      ]
     },
     "metadata": {
      "needs_background": "light"
     },
     "output_type": "display_data"
    }
   ],
   "source": [
    "(visual_data\n",
    " .pivot_table(index='total_area', values='last_price')\n",
    " .plot(grid=True,ylim=(0, 70000000), figsize=(12,5))\n",
    ").set_title('Зависимость цены от общей площади')\n",
    "plt.ylabel('десятки миллионов рублей')\n",
    "plt.xlabel('площадь в метрах')\n",
    "plt.show()"
   ]
  },
  {
   "cell_type": "code",
   "execution_count": 85,
   "metadata": {
    "scrolled": true
   },
   "outputs": [
    {
     "data": {
      "image/png": "[encoded data removed]",
      "text/plain": [
       "<Figure size 864x360 with 1 Axes>"
      ]
     },
     "metadata": {
      "needs_background": "light"
     },
     "output_type": "display_data"
    }
   ],
   "source": [
    "(visual_data\n",
    " .plot(x='total_area', y='last_price', kind='scatter', figsize=(12, 5), sharex=False, grid=True)\n",
    ").set_title('Зависимость цены от общей площади')\n",
    "plt.ylabel('десятки миллионов рублей')\n",
    "plt.xlabel('площадь в метрах')\n",
    "plt.show()"
   ]
  },
  {
   "cell_type": "markdown",
   "metadata": {},
   "source": [
    "Наблюдаем стабильное увеличение цены при увеличении площади, где-то до показателя в 150кв.м.\n",
    "\n",
    "После отметки в 150кв.м. зависимость пропадает.\n",
    "\n",
    "\n"
   ]
  },
  {
   "cell_type": "markdown",
   "metadata": {},
   "source": [
    "<div class=\"alert alert-success\">\n",
    "<h2> Комментарий от ревьюера</h2>\n",
    "\n",
    "Ты отлично поясняешь полученные коэффициенты корреляции. Для таких исследований лучше выбирать тип графика - диграмма рассеяния.\n",
    "\n",
    "</div>"
   ]
  },
  {
   "cell_type": "markdown",
   "metadata": {},
   "source": [
    "<div class=\"alert alert-success\">\n",
    "<h2> Комментарий от ревьюера v2</h2>\n",
    "\n",
    "Отлично.\n",
    "\n",
    "</div>"
   ]
  },
  {
   "cell_type": "markdown",
   "metadata": {},
   "source": [
    "##### Зависимость стоимости квартиры от количества комнат:"
   ]
  },
  {
   "cell_type": "code",
   "execution_count": 86,
   "metadata": {},
   "outputs": [
    {
     "data": {
      "text/plain": [
       "0.46376173072748605"
      ]
     },
     "execution_count": 86,
     "metadata": {},
     "output_type": "execute_result"
    }
   ],
   "source": [
    "visual_data['last_price'].corr(visual_data['rooms'])"
   ]
  },
  {
   "cell_type": "code",
   "execution_count": 87,
   "metadata": {},
   "outputs": [
    {
     "data": {
      "image/png": "[encoded data removed]",
      "text/plain": [
       "<Figure size 864x432 with 1 Axes>"
      ]
     },
     "metadata": {
      "needs_background": "light"
     },
     "output_type": "display_data"
    }
   ],
   "source": [
    "(visual_data\n",
    " .boxplot('last_price', by='rooms', figsize=(12,6))).set_title('Зависимость цены от количества комнат')\n",
    "plt.ylabel('десятки миллионов рублей')\n",
    "plt.xlabel('количество комнат')\n",
    "plt.show()"
   ]
  },
  {
   "cell_type": "code",
   "execution_count": 88,
   "metadata": {
    "scrolled": false
   },
   "outputs": [
    {
     "data": {
      "image/png": "[encoded data removed]",
      "text/plain": [
       "<Figure size 864x360 with 1 Axes>"
      ]
     },
     "metadata": {
      "needs_background": "light"
     },
     "output_type": "display_data"
    }
   ],
   "source": [
    "(visual_data\n",
    " .pivot_table(index='rooms', values='last_price')\n",
    " .plot(grid=True,ylim=(0, 70000000), figsize=(12,5))\n",
    ").set_title('Зависимость цены от количества комнат')\n",
    "plt.ylabel('десятки миллионов рублей')\n",
    "plt.xlabel('количество комнат')\n",
    "plt.show()"
   ]
  },
  {
   "cell_type": "markdown",
   "metadata": {},
   "source": [
    "На графиках видим, что цена зависит от количества комнат.<br/> \n",
    "Но всё же, скорее всего, эта зависимость косвенная.<br/> \n",
    "Является следствием увеличения общей площади."
   ]
  },
  {
   "cell_type": "markdown",
   "metadata": {},
   "source": [
    "##### Зависимость стоимости квартиры от удаленности от центра:"
   ]
  },
  {
   "cell_type": "code",
   "execution_count": 89,
   "metadata": {},
   "outputs": [
    {
     "data": {
      "text/plain": [
       "-0.31266119649964697"
      ]
     },
     "execution_count": 89,
     "metadata": {},
     "output_type": "execute_result"
    }
   ],
   "source": [
    "visual_data['last_price'].corr(visual_data['cityCenters_nearest_km'])"
   ]
  },
  {
   "cell_type": "markdown",
   "metadata": {},
   "source": [
    "Обратная корреляция, с увеличением расстояния - снижается цена, логично."
   ]
  },
  {
   "cell_type": "code",
   "execution_count": 90,
   "metadata": {},
   "outputs": [
    {
     "data": {
      "image/png": "[encoded data removed]",
      "text/plain": [
       "<Figure size 864x360 with 1 Axes>"
      ]
     },
     "metadata": {
      "needs_background": "light"
     },
     "output_type": "display_data"
    }
   ],
   "source": [
    "(visual_data\n",
    " .pivot_table(index='cityCenters_nearest_km', values='last_price')\n",
    " .plot(grid=True,ylim=(700000, 70000000), figsize=(12,5))\n",
    ").set_title('Зависимость цены от удаленности от центра')\n",
    "plt.ylabel('десятки миллионов рублей')\n",
    "plt.xlabel('расстояние в километрах')\n",
    "plt.show()"
   ]
  },
  {
   "cell_type": "code",
   "execution_count": 91,
   "metadata": {},
   "outputs": [
    {
     "data": {
      "image/png": "[encoded data removed]",
      "text/plain": [
       "<Figure size 576x432 with 2 Axes>"
      ]
     },
     "metadata": {
      "needs_background": "light"
     },
     "output_type": "display_data"
    }
   ],
   "source": [
    "(visual_data\n",
    " .plot(x='cityCenters_nearest_km', y='last_price', kind='hexbin',gridsize=20, figsize=(8, 6), sharex=False, grid=True)\n",
    ").set_title('Зависимость цены от удаленности от центра')\n",
    "plt.ylabel('десятки миллионов рублей')\n",
    "plt.xlabel('расстояние в километрах')\n",
    "plt.show()"
   ]
  },
  {
   "cell_type": "markdown",
   "metadata": {},
   "source": [
    "##### Зависимость цены от этажа (первый/последний/другой):"
   ]
  },
  {
   "cell_type": "markdown",
   "metadata": {},
   "source": [
    "Первые этажи мало кто любит, последние этажи - уже лучше, ну и всем нравятся \"другие\"."
   ]
  },
  {
   "cell_type": "code",
   "execution_count": 92,
   "metadata": {
    "scrolled": true
   },
   "outputs": [
    {
     "data": {
      "image/png": "[encoded data removed]",
      "text/plain": [
       "<Figure size 864x432 with 1 Axes>"
      ]
     },
     "metadata": {
      "needs_background": "light"
     },
     "output_type": "display_data"
    }
   ],
   "source": [
    "(visual_data\n",
    " .boxplot('last_price', by='group_floor', figsize=(12,6))).set_title('Зависимость цен от этажа')\n",
    "plt.ylabel('дессятки миллионов рублей')\n",
    "plt.xlabel('этаж')\n",
    "plt.show()"
   ]
  },
  {
   "cell_type": "markdown",
   "metadata": {},
   "source": [
    "##### Зависимость цены от дня недели:"
   ]
  },
  {
   "cell_type": "code",
   "execution_count": 93,
   "metadata": {
    "scrolled": true
   },
   "outputs": [
    {
     "data": {
      "image/png": "[encoded data removed]",
      "text/plain": [
       "<Figure size 864x432 with 1 Axes>"
      ]
     },
     "metadata": {
      "needs_background": "light"
     },
     "output_type": "display_data"
    }
   ],
   "source": [
    "(visual_data\n",
    " .boxplot('last_price', by='weekday_of_exposition', figsize=(12,6))).set_title('Зависимость цен от дня недели публикации')\n",
    "plt.ylabel('десятки миллионов рублей')\n",
    "plt.xlabel('дни недели')\n",
    "plt.show()\n"
   ]
  },
  {
   "cell_type": "markdown",
   "metadata": {},
   "source": [
    "##### Зависимость цены от месяца:"
   ]
  },
  {
   "cell_type": "code",
   "execution_count": 94,
   "metadata": {},
   "outputs": [
    {
     "data": {
      "image/png": "[encoded data removed]",
      "text/plain": [
       "<Figure size 864x432 with 1 Axes>"
      ]
     },
     "metadata": {
      "needs_background": "light"
     },
     "output_type": "display_data"
    }
   ],
   "source": [
    "visual_data.boxplot('last_price', by='month_of_exposition', figsize=(12,6)).set_title('Зависимость цен от месяца публикации')\n",
    "plt.ylabel('десятки миллионов рублей')\n",
    "plt.xlabel('месяц публикации')\n",
    "plt.show()"
   ]
  },
  {
   "cell_type": "markdown",
   "metadata": {},
   "source": [
    "##### Зависимость цены от года:"
   ]
  },
  {
   "cell_type": "code",
   "execution_count": 95,
   "metadata": {},
   "outputs": [
    {
     "data": {
      "image/png": "[encoded data removed]",
      "text/plain": [
       "<Figure size 864x432 with 1 Axes>"
      ]
     },
     "metadata": {
      "needs_background": "light"
     },
     "output_type": "display_data"
    }
   ],
   "source": [
    "visual_data.boxplot('last_price', by='year_of_exposition', figsize=(12,6)).set_title('Зависимость цен от года публикации')\n",
    "plt.ylabel('десятки миллионов рублей')\n",
    "plt.xlabel('год публикации')\n",
    "plt.show()"
   ]
  },
  {
   "cell_type": "markdown",
   "metadata": {},
   "source": [
    "Существенной зависимости от дня недели или месяца - не обнаружено.\n",
    "Цены на квартиры плавно снижались до 2017 года, но после этого начали расти."
   ]
  },
  {
   "cell_type": "markdown",
   "metadata": {},
   "source": [
    "##### Изучение квартир в центре."
   ]
  },
  {
   "cell_type": "markdown",
   "metadata": {},
   "source": [
    "Посмотрим медианные показатели цен по километрам:"
   ]
  },
  {
   "cell_type": "code",
   "execution_count": 96,
   "metadata": {},
   "outputs": [
    {
     "data": {
      "text/plain": [
       "cityCenters_nearest_km\n",
       "0.0     139319.0\n",
       "1.0     122449.0\n",
       "2.0     117949.0\n",
       "3.0     104603.0\n",
       "4.0     114114.0\n",
       "5.0     126064.5\n",
       "6.0     125853.0\n",
       "7.0     122822.0\n",
       "8.0     120831.0\n",
       "9.0     104328.0\n",
       "10.0    105607.0\n",
       "11.0    102241.0\n",
       "12.0    102419.0\n",
       "13.0    103084.0\n",
       "14.0    101030.0\n",
       "15.0    100000.0\n",
       "16.0     96721.0\n",
       "17.0     93264.0\n",
       "18.0     90909.0\n",
       "19.0     96238.0\n",
       "Name: price_one_square_meter, dtype: float64"
      ]
     },
     "execution_count": 96,
     "metadata": {},
     "output_type": "execute_result"
    }
   ],
   "source": [
    "visual_data.groupby('cityCenters_nearest_km')['price_one_square_meter'].median().head(20)"
   ]
  },
  {
   "cell_type": "code",
   "execution_count": 97,
   "metadata": {
    "scrolled": true
   },
   "outputs": [
    {
     "data": {
      "text/html": [
       "<div>\n",
       "<style scoped>\n",
       "    .dataframe tbody tr th:only-of-type {\n",
       "        vertical-align: middle;\n",
       "    }\n",
       "\n",
       "    .dataframe tbody tr th {\n",
       "        vertical-align: top;\n",
       "    }\n",
       "\n",
       "    .dataframe thead th {\n",
       "        text-align: right;\n",
       "    }\n",
       "</style>\n",
       "<table border=\"1\" class=\"dataframe\">\n",
       "  <thead>\n",
       "    <tr style=\"text-align: right;\">\n",
       "      <th></th>\n",
       "      <th>locality_name</th>\n",
       "      <th>lemmas_string</th>\n",
       "      <th>last_price</th>\n",
       "      <th>rooms</th>\n",
       "      <th>total_area</th>\n",
       "      <th>living_area</th>\n",
       "      <th>kitchen_area</th>\n",
       "      <th>ceiling_height</th>\n",
       "      <th>floor</th>\n",
       "      <th>floors_total</th>\n",
       "      <th>...</th>\n",
       "      <th>days_exposition</th>\n",
       "      <th>first_day_exposition</th>\n",
       "      <th>price_one_square_meter</th>\n",
       "      <th>weekday_of_exposition</th>\n",
       "      <th>month_of_exposition</th>\n",
       "      <th>year_of_exposition</th>\n",
       "      <th>living_of_the_total</th>\n",
       "      <th>kitchen_of_the_total</th>\n",
       "      <th>cityCenters_nearest_km</th>\n",
       "      <th>group_floor</th>\n",
       "    </tr>\n",
       "  </thead>\n",
       "  <tbody>\n",
       "    <tr>\n",
       "      <td>24</td>\n",
       "      <td>Санкт-Петербург</td>\n",
       "      <td>санкт-петербург\\n</td>\n",
       "      <td>6500000</td>\n",
       "      <td>2</td>\n",
       "      <td>97.2</td>\n",
       "      <td>46.500000</td>\n",
       "      <td>19.600000</td>\n",
       "      <td>2.65</td>\n",
       "      <td>1</td>\n",
       "      <td>3</td>\n",
       "      <td>...</td>\n",
       "      <td>265</td>\n",
       "      <td>2015-10-31</td>\n",
       "      <td>66872</td>\n",
       "      <td>суббота</td>\n",
       "      <td>10</td>\n",
       "      <td>2015</td>\n",
       "      <td>0.478395</td>\n",
       "      <td>0.201646</td>\n",
       "      <td>2.0</td>\n",
       "      <td>первый</td>\n",
       "    </tr>\n",
       "    <tr>\n",
       "      <td>213</td>\n",
       "      <td>Санкт-Петербург</td>\n",
       "      <td>санкт-петербург\\n</td>\n",
       "      <td>8700000</td>\n",
       "      <td>4</td>\n",
       "      <td>111.4</td>\n",
       "      <td>73.200000</td>\n",
       "      <td>14.100000</td>\n",
       "      <td>3.10</td>\n",
       "      <td>2</td>\n",
       "      <td>4</td>\n",
       "      <td>...</td>\n",
       "      <td>791</td>\n",
       "      <td>2016-10-10</td>\n",
       "      <td>78097</td>\n",
       "      <td>понедельник</td>\n",
       "      <td>10</td>\n",
       "      <td>2016</td>\n",
       "      <td>0.657092</td>\n",
       "      <td>0.126571</td>\n",
       "      <td>1.0</td>\n",
       "      <td>другой</td>\n",
       "    </tr>\n",
       "    <tr>\n",
       "      <td>239</td>\n",
       "      <td>Санкт-Петербург</td>\n",
       "      <td>санкт-петербург\\n</td>\n",
       "      <td>22000000</td>\n",
       "      <td>3</td>\n",
       "      <td>119.0</td>\n",
       "      <td>56.000000</td>\n",
       "      <td>35.000000</td>\n",
       "      <td>3.50</td>\n",
       "      <td>3</td>\n",
       "      <td>5</td>\n",
       "      <td>...</td>\n",
       "      <td>77</td>\n",
       "      <td>2017-02-16</td>\n",
       "      <td>184874</td>\n",
       "      <td>четверг</td>\n",
       "      <td>2</td>\n",
       "      <td>2017</td>\n",
       "      <td>0.470588</td>\n",
       "      <td>0.294118</td>\n",
       "      <td>2.0</td>\n",
       "      <td>другой</td>\n",
       "    </tr>\n",
       "    <tr>\n",
       "      <td>282</td>\n",
       "      <td>Санкт-Петербург</td>\n",
       "      <td>санкт-петербург\\n</td>\n",
       "      <td>37000000</td>\n",
       "      <td>2</td>\n",
       "      <td>115.0</td>\n",
       "      <td>65.000000</td>\n",
       "      <td>14.000000</td>\n",
       "      <td>2.65</td>\n",
       "      <td>2</td>\n",
       "      <td>5</td>\n",
       "      <td>...</td>\n",
       "      <td>158</td>\n",
       "      <td>2018-11-15</td>\n",
       "      <td>321739</td>\n",
       "      <td>четверг</td>\n",
       "      <td>11</td>\n",
       "      <td>2018</td>\n",
       "      <td>0.565217</td>\n",
       "      <td>0.121739</td>\n",
       "      <td>2.0</td>\n",
       "      <td>другой</td>\n",
       "    </tr>\n",
       "    <tr>\n",
       "      <td>330</td>\n",
       "      <td>Санкт-Петербург</td>\n",
       "      <td>санкт-петербург\\n</td>\n",
       "      <td>7100000</td>\n",
       "      <td>3</td>\n",
       "      <td>50.0</td>\n",
       "      <td>31.500000</td>\n",
       "      <td>5.000000</td>\n",
       "      <td>2.65</td>\n",
       "      <td>1</td>\n",
       "      <td>5</td>\n",
       "      <td>...</td>\n",
       "      <td>900</td>\n",
       "      <td>2016-04-20</td>\n",
       "      <td>142000</td>\n",
       "      <td>среда</td>\n",
       "      <td>4</td>\n",
       "      <td>2016</td>\n",
       "      <td>0.630000</td>\n",
       "      <td>0.100000</td>\n",
       "      <td>2.0</td>\n",
       "      <td>первый</td>\n",
       "    </tr>\n",
       "    <tr>\n",
       "      <td>...</td>\n",
       "      <td>...</td>\n",
       "      <td>...</td>\n",
       "      <td>...</td>\n",
       "      <td>...</td>\n",
       "      <td>...</td>\n",
       "      <td>...</td>\n",
       "      <td>...</td>\n",
       "      <td>...</td>\n",
       "      <td>...</td>\n",
       "      <td>...</td>\n",
       "      <td>...</td>\n",
       "      <td>...</td>\n",
       "      <td>...</td>\n",
       "      <td>...</td>\n",
       "      <td>...</td>\n",
       "      <td>...</td>\n",
       "      <td>...</td>\n",
       "      <td>...</td>\n",
       "      <td>...</td>\n",
       "      <td>...</td>\n",
       "      <td>...</td>\n",
       "    </tr>\n",
       "    <tr>\n",
       "      <td>23382</td>\n",
       "      <td>Санкт-Петербург</td>\n",
       "      <td>санкт-петербург\\n</td>\n",
       "      <td>15000000</td>\n",
       "      <td>4</td>\n",
       "      <td>150.9</td>\n",
       "      <td>98.200000</td>\n",
       "      <td>23.900000</td>\n",
       "      <td>3.67</td>\n",
       "      <td>3</td>\n",
       "      <td>4</td>\n",
       "      <td>...</td>\n",
       "      <td>455</td>\n",
       "      <td>2016-07-04</td>\n",
       "      <td>99404</td>\n",
       "      <td>понедельник</td>\n",
       "      <td>7</td>\n",
       "      <td>2016</td>\n",
       "      <td>0.650762</td>\n",
       "      <td>0.158383</td>\n",
       "      <td>2.0</td>\n",
       "      <td>другой</td>\n",
       "    </tr>\n",
       "    <tr>\n",
       "      <td>23395</td>\n",
       "      <td>Санкт-Петербург</td>\n",
       "      <td>санкт-петербург\\n</td>\n",
       "      <td>40000000</td>\n",
       "      <td>6</td>\n",
       "      <td>188.0</td>\n",
       "      <td>109.510000</td>\n",
       "      <td>31.300000</td>\n",
       "      <td>2.65</td>\n",
       "      <td>4</td>\n",
       "      <td>6</td>\n",
       "      <td>...</td>\n",
       "      <td>30</td>\n",
       "      <td>2017-05-29</td>\n",
       "      <td>212766</td>\n",
       "      <td>понедельник</td>\n",
       "      <td>5</td>\n",
       "      <td>2017</td>\n",
       "      <td>0.582500</td>\n",
       "      <td>0.166489</td>\n",
       "      <td>2.0</td>\n",
       "      <td>другой</td>\n",
       "    </tr>\n",
       "    <tr>\n",
       "      <td>23399</td>\n",
       "      <td>Санкт-Петербург</td>\n",
       "      <td>санкт-петербург\\n</td>\n",
       "      <td>15300000</td>\n",
       "      <td>3</td>\n",
       "      <td>97.0</td>\n",
       "      <td>61.400000</td>\n",
       "      <td>9.500000</td>\n",
       "      <td>3.50</td>\n",
       "      <td>2</td>\n",
       "      <td>7</td>\n",
       "      <td>...</td>\n",
       "      <td>391</td>\n",
       "      <td>2017-01-11</td>\n",
       "      <td>157732</td>\n",
       "      <td>среда</td>\n",
       "      <td>1</td>\n",
       "      <td>2017</td>\n",
       "      <td>0.632990</td>\n",
       "      <td>0.097938</td>\n",
       "      <td>1.0</td>\n",
       "      <td>другой</td>\n",
       "    </tr>\n",
       "    <tr>\n",
       "      <td>23602</td>\n",
       "      <td>Санкт-Петербург</td>\n",
       "      <td>санкт-петербург\\n</td>\n",
       "      <td>8700000</td>\n",
       "      <td>3</td>\n",
       "      <td>73.0</td>\n",
       "      <td>41.227883</td>\n",
       "      <td>13.676896</td>\n",
       "      <td>2.65</td>\n",
       "      <td>4</td>\n",
       "      <td>4</td>\n",
       "      <td>...</td>\n",
       "      <td>34</td>\n",
       "      <td>2019-01-23</td>\n",
       "      <td>119178</td>\n",
       "      <td>среда</td>\n",
       "      <td>1</td>\n",
       "      <td>2019</td>\n",
       "      <td>0.564766</td>\n",
       "      <td>0.187355</td>\n",
       "      <td>2.0</td>\n",
       "      <td>последний</td>\n",
       "    </tr>\n",
       "    <tr>\n",
       "      <td>23648</td>\n",
       "      <td>Санкт-Петербург</td>\n",
       "      <td>санкт-петербург\\n</td>\n",
       "      <td>10100000</td>\n",
       "      <td>3</td>\n",
       "      <td>78.0</td>\n",
       "      <td>48.600000</td>\n",
       "      <td>8.200000</td>\n",
       "      <td>3.27</td>\n",
       "      <td>5</td>\n",
       "      <td>5</td>\n",
       "      <td>...</td>\n",
       "      <td>621</td>\n",
       "      <td>2017-05-12</td>\n",
       "      <td>129487</td>\n",
       "      <td>пятница</td>\n",
       "      <td>5</td>\n",
       "      <td>2017</td>\n",
       "      <td>0.623077</td>\n",
       "      <td>0.105128</td>\n",
       "      <td>1.0</td>\n",
       "      <td>последний</td>\n",
       "    </tr>\n",
       "  </tbody>\n",
       "</table>\n",
       "<p>411 rows × 21 columns</p>\n",
       "</div>"
      ],
      "text/plain": [
       "         locality_name      lemmas_string  last_price  rooms  total_area  \\\n",
       "24     Санкт-Петербург  санкт-петербург\\n     6500000      2        97.2   \n",
       "213    Санкт-Петербург  санкт-петербург\\n     8700000      4       111.4   \n",
       "239    Санкт-Петербург  санкт-петербург\\n    22000000      3       119.0   \n",
       "282    Санкт-Петербург  санкт-петербург\\n    37000000      2       115.0   \n",
       "330    Санкт-Петербург  санкт-петербург\\n     7100000      3        50.0   \n",
       "...                ...                ...         ...    ...         ...   \n",
       "23382  Санкт-Петербург  санкт-петербург\\n    15000000      4       150.9   \n",
       "23395  Санкт-Петербург  санкт-петербург\\n    40000000      6       188.0   \n",
       "23399  Санкт-Петербург  санкт-петербург\\n    15300000      3        97.0   \n",
       "23602  Санкт-Петербург  санкт-петербург\\n     8700000      3        73.0   \n",
       "23648  Санкт-Петербург  санкт-петербург\\n    10100000      3        78.0   \n",
       "\n",
       "       living_area  kitchen_area  ceiling_height  floor  floors_total  ...  \\\n",
       "24       46.500000     19.600000            2.65      1             3  ...   \n",
       "213      73.200000     14.100000            3.10      2             4  ...   \n",
       "239      56.000000     35.000000            3.50      3             5  ...   \n",
       "282      65.000000     14.000000            2.65      2             5  ...   \n",
       "330      31.500000      5.000000            2.65      1             5  ...   \n",
       "...            ...           ...             ...    ...           ...  ...   \n",
       "23382    98.200000     23.900000            3.67      3             4  ...   \n",
       "23395   109.510000     31.300000            2.65      4             6  ...   \n",
       "23399    61.400000      9.500000            3.50      2             7  ...   \n",
       "23602    41.227883     13.676896            2.65      4             4  ...   \n",
       "23648    48.600000      8.200000            3.27      5             5  ...   \n",
       "\n",
       "       days_exposition  first_day_exposition price_one_square_meter  \\\n",
       "24                 265            2015-10-31                  66872   \n",
       "213                791            2016-10-10                  78097   \n",
       "239                 77            2017-02-16                 184874   \n",
       "282                158            2018-11-15                 321739   \n",
       "330                900            2016-04-20                 142000   \n",
       "...                ...                   ...                    ...   \n",
       "23382              455            2016-07-04                  99404   \n",
       "23395               30            2017-05-29                 212766   \n",
       "23399              391            2017-01-11                 157732   \n",
       "23602               34            2019-01-23                 119178   \n",
       "23648              621            2017-05-12                 129487   \n",
       "\n",
       "       weekday_of_exposition month_of_exposition  year_of_exposition  \\\n",
       "24                   суббота                  10                2015   \n",
       "213              понедельник                  10                2016   \n",
       "239                  четверг                   2                2017   \n",
       "282                  четверг                  11                2018   \n",
       "330                    среда                   4                2016   \n",
       "...                      ...                 ...                 ...   \n",
       "23382            понедельник                   7                2016   \n",
       "23395            понедельник                   5                2017   \n",
       "23399                  среда                   1                2017   \n",
       "23602                  среда                   1                2019   \n",
       "23648                пятница                   5                2017   \n",
       "\n",
       "       living_of_the_total  kitchen_of_the_total  cityCenters_nearest_km  \\\n",
       "24                0.478395              0.201646                     2.0   \n",
       "213               0.657092              0.126571                     1.0   \n",
       "239               0.470588              0.294118                     2.0   \n",
       "282               0.565217              0.121739                     2.0   \n",
       "330               0.630000              0.100000                     2.0   \n",
       "...                    ...                   ...                     ...   \n",
       "23382             0.650762              0.158383                     2.0   \n",
       "23395             0.582500              0.166489                     2.0   \n",
       "23399             0.632990              0.097938                     1.0   \n",
       "23602             0.564766              0.187355                     2.0   \n",
       "23648             0.623077              0.105128                     1.0   \n",
       "\n",
       "       group_floor  \n",
       "24          первый  \n",
       "213         другой  \n",
       "239         другой  \n",
       "282         другой  \n",
       "330         первый  \n",
       "...            ...  \n",
       "23382       другой  \n",
       "23395       другой  \n",
       "23399       другой  \n",
       "23602    последний  \n",
       "23648    последний  \n",
       "\n",
       "[411 rows x 21 columns]"
      ]
     },
     "execution_count": 97,
     "metadata": {},
     "output_type": "execute_result"
    }
   ],
   "source": [
    "central_data = visual_data.query('cityCenters_nearest_km <= 2')\n",
    "central_data"
   ]
  },
  {
   "cell_type": "code",
   "execution_count": 98,
   "metadata": {},
   "outputs": [],
   "source": [
    "def comparative_table(data, row, table_name, x_name, y_name):\n",
    "    data.boxplot(row)\n",
    "    plt.title(table_name)\n",
    "    plt.xlabel(x_name)\n",
    "    plt.ylabel(y_name)\n",
    "    plt.show()"
   ]
  },
  {
   "cell_type": "markdown",
   "metadata": {},
   "source": [
    "Цены в радиусе двух километров от центра существенно выше, но и предложений очень мало, всего 411."
   ]
  },
  {
   "cell_type": "code",
   "execution_count": 99,
   "metadata": {
    "scrolled": true
   },
   "outputs": [
    {
     "data": {
      "image/png": "[encoded data removed]",
      "text/plain": [
       "<Figure size 576x360 with 1 Axes>"
      ]
     },
     "metadata": {
      "needs_background": "light"
     },
     "output_type": "display_data"
    }
   ],
   "source": [
    "comparative_table(central_data, 'total_area', 'Общая площадь квартир', 'общая площадь', 'квадратные метры')"
   ]
  },
  {
   "cell_type": "code",
   "execution_count": 100,
   "metadata": {},
   "outputs": [
    {
     "data": {
      "text/plain": [
       "count    411.000000\n",
       "mean      91.417080\n",
       "std       42.122884\n",
       "min       12.000000\n",
       "25%       63.300000\n",
       "50%       83.000000\n",
       "75%      110.000000\n",
       "max      297.500000\n",
       "Name: total_area, dtype: float64"
      ]
     },
     "execution_count": 100,
     "metadata": {},
     "output_type": "execute_result"
    }
   ],
   "source": [
    "central_data['total_area'].describe()"
   ]
  },
  {
   "cell_type": "markdown",
   "metadata": {},
   "source": [
    "Средняя площадь квартир в центре существенно выше.<br/>\n",
    "Более 80кв.м. в центре, при 50кв.м. по всей таблице."
   ]
  },
  {
   "cell_type": "code",
   "execution_count": 101,
   "metadata": {
    "scrolled": true
   },
   "outputs": [
    {
     "data": {
      "image/png": "[encoded data removed]",
      "text/plain": [
       "<Figure size 576x360 with 1 Axes>"
      ]
     },
     "metadata": {
      "needs_background": "light"
     },
     "output_type": "display_data"
    }
   ],
   "source": [
    "comparative_table(central_data, 'last_price', 'Цены на момент снятия публикации', 'цена', 'десятки миллионов рублей')"
   ]
  },
  {
   "cell_type": "code",
   "execution_count": 102,
   "metadata": {
    "scrolled": true
   },
   "outputs": [
    {
     "data": {
      "text/plain": [
       "count    4.110000e+02\n",
       "mean     1.269404e+07\n",
       "std      9.669411e+06\n",
       "min      2.100000e+06\n",
       "25%      7.489500e+06\n",
       "50%      9.600000e+06\n",
       "75%      1.400000e+07\n",
       "max      6.800000e+07\n",
       "Name: last_price, dtype: float64"
      ]
     },
     "execution_count": 102,
     "metadata": {},
     "output_type": "execute_result"
    }
   ],
   "source": [
    "central_data['last_price'].describe()"
   ]
  },
  {
   "cell_type": "markdown",
   "metadata": {},
   "source": [
    "Средняя цена квартир более 12млн, что так же значительно выше среднего показателя по городу(6,5млн)."
   ]
  },
  {
   "cell_type": "code",
   "execution_count": 103,
   "metadata": {
    "scrolled": true
   },
   "outputs": [
    {
     "data": {
      "image/png": "[encoded data removed]",
      "text/plain": [
       "<Figure size 576x360 with 1 Axes>"
      ]
     },
     "metadata": {
      "needs_background": "light"
     },
     "output_type": "display_data"
    }
   ],
   "source": [
    "comparative_table(central_data, 'rooms', 'Число комнат', 'комнаты', 'количество')"
   ]
  },
  {
   "cell_type": "markdown",
   "metadata": {},
   "source": [
    "Медианный показатель числа комнат в центре - 3, по городу - 2."
   ]
  },
  {
   "cell_type": "code",
   "execution_count": 104,
   "metadata": {},
   "outputs": [
    {
     "data": {
      "image/png": "[encoded data removed]",
      "text/plain": [
       "<Figure size 576x360 with 1 Axes>"
      ]
     },
     "metadata": {
      "needs_background": "light"
     },
     "output_type": "display_data"
    }
   ],
   "source": [
    "comparative_table(central_data, 'ceiling_height', 'Высота потолков', 'потолки', 'метры')"
   ]
  },
  {
   "cell_type": "markdown",
   "metadata": {},
   "source": [
    "Средняя высота потолков так же выше, около 3метров."
   ]
  },
  {
   "cell_type": "markdown",
   "metadata": {},
   "source": [
    "##### Зависимости."
   ]
  },
  {
   "cell_type": "markdown",
   "metadata": {},
   "source": [
    "Цена от площади:"
   ]
  },
  {
   "cell_type": "code",
   "execution_count": 105,
   "metadata": {},
   "outputs": [
    {
     "data": {
      "text/plain": [
       "0.6057563337247991"
      ]
     },
     "execution_count": 105,
     "metadata": {},
     "output_type": "execute_result"
    }
   ],
   "source": [
    "central_data['last_price'].corr(central_data['total_area'])"
   ]
  },
  {
   "cell_type": "markdown",
   "metadata": {},
   "source": [
    "Степень корреляции немного ниже, 0.6 в центре, тогда как по всем предложениям - 0.65.\n",
    "Цена не так сильно зависит от площади, это интересно."
   ]
  },
  {
   "cell_type": "markdown",
   "metadata": {},
   "source": [
    "Цена от количества комнат:"
   ]
  },
  {
   "cell_type": "code",
   "execution_count": 106,
   "metadata": {},
   "outputs": [
    {
     "data": {
      "text/plain": [
       "0.3236826656328284"
      ]
     },
     "execution_count": 106,
     "metadata": {},
     "output_type": "execute_result"
    }
   ],
   "source": [
    "central_data['last_price'].corr(central_data['rooms'])"
   ]
  },
  {
   "cell_type": "markdown",
   "metadata": {},
   "source": [
    "Здесь степень корреляции так же немного ниже, по объявлениям в центре 0.32, а всем - 0.36."
   ]
  },
  {
   "cell_type": "markdown",
   "metadata": {},
   "source": [
    "Цена от этажа:"
   ]
  },
  {
   "cell_type": "code",
   "execution_count": 107,
   "metadata": {},
   "outputs": [
    {
     "data": {
      "image/png": "[encoded data removed]",
      "text/plain": [
       "<Figure size 864x432 with 1 Axes>"
      ]
     },
     "metadata": {
      "needs_background": "light"
     },
     "output_type": "display_data"
    }
   ],
   "source": [
    "central_data.boxplot('last_price', by='group_floor', figsize=(12,6))\n",
    "plt.title('Зависимоть цены от этажа')\n",
    "plt.ylabel('десятки миллионов рублей')\n",
    "plt.xlabel('этаж')\n",
    "plt.show()\n"
   ]
  },
  {
   "cell_type": "markdown",
   "metadata": {},
   "source": [
    "Ситуация схожая с общими показателями."
   ]
  },
  {
   "cell_type": "markdown",
   "metadata": {},
   "source": [
    "##### Топ населенных пунктов"
   ]
  },
  {
   "cell_type": "code",
   "execution_count": 108,
   "metadata": {},
   "outputs": [
    {
     "data": {
      "text/plain": [
       "санкт-петербург\\n    13515\n",
       " муриный\\n             551\n",
       " шушар\\n               408\n",
       "всеволожск\\n           339\n",
       "колпино\\n              307\n",
       "пушкин\\n               305\n",
       " парголовый\\n          301\n",
       " кудрово\\n             299\n",
       "гатчина\\n              268\n",
       "выборг\\n               207\n",
       "Name: lemmas_string, dtype: int64"
      ]
     },
     "execution_count": 108,
     "metadata": {},
     "output_type": "execute_result"
    }
   ],
   "source": [
    "visual_data['lemmas_string'].value_counts().sort_values(ascending=False).head(10)"
   ]
  },
  {
   "cell_type": "code",
   "execution_count": 109,
   "metadata": {},
   "outputs": [],
   "source": [
    "top_locations = [\n",
    "    'санкт-петербург\\n', ' муриный\\n', ' шушар\\n', 'всеволожск\\n', \n",
    "    'пушкин\\n', 'колпино\\n', ' парголовый\\n', 'гатчина\\n', ' кудрово\\n', 'выборг\\n']"
   ]
  },
  {
   "cell_type": "markdown",
   "metadata": {},
   "source": [
    "Узнаем среднюю цену квадратного метра в топовых населённых пунктах:"
   ]
  },
  {
   "cell_type": "code",
   "execution_count": 110,
   "metadata": {},
   "outputs": [
    {
     "data": {
      "text/plain": [
       "lemmas_string\n",
       "санкт-петербург\\n    110626.316241\n",
       "пушкин\\n             102073.796721\n",
       " кудрово\\n            92473.588629\n",
       " парголовый\\n         89672.129568\n",
       " муриный\\n            85743.230490\n",
       " шушар\\n              78010.186275\n",
       "колпино\\n             74763.332248\n",
       "всеволожск\\n          68570.622419\n",
       "гатчина\\n             67928.294776\n",
       "выборг\\n              57269.787440\n",
       "Name: price_one_square_meter, dtype: float64"
      ]
     },
     "execution_count": 110,
     "metadata": {},
     "output_type": "execute_result"
    }
   ],
   "source": [
    "(visual_data\n",
    ".query('lemmas_string in @top_locations')\n",
    ".groupby('lemmas_string')['price_one_square_meter'].mean().sort_values(ascending=False)\n",
    ")"
   ]
  },
  {
   "cell_type": "markdown",
   "metadata": {},
   "source": [
    "Самые дорогие квартиры в самом Санкт-Петербурге, а также в городе Пушкин.\n",
    "Самые дешевые квартиры из топа - в Выборге."
   ]
  },
  {
   "cell_type": "markdown",
   "metadata": {},
   "source": [
    "### Шаг 5. Общий вывод"
   ]
  },
  {
   "cell_type": "markdown",
   "metadata": {},
   "source": [
    "**Количество комнат.**\n",
    "Больше всего продается однокомнатных и двухкомнатных квартир, примерно равное количество.<br/>\n",
    "Доля однокомнатных квартир из всей выборки составила - 34%.<br/>\n",
    "Доля двухкомнатных квартир составила - 33.5%.<br/>\n",
    "Доля трехкомнатных квартир составила - 24.5%.<br/>\n",
    "Четырёхкомнатные и более продаются крайне редко.<br/>\n",
    "Доля четырехкомнатных квартир из всей выборки составила всего - 5%.<br/>\n"
   ]
  },
  {
   "cell_type": "markdown",
   "metadata": {},
   "source": [
    "**Общая площадь**\n",
    "Квартир площадью менее 30 квадратных метров всего - 3%.<br/>\n",
    "Значительно больше квартир площадью от 30кв.м. до 40кв.м - 22%.<br/>\n",
    "Примерно такое же количество квартир 40-50кв.м., их - 23%.<br/>\n",
    "Чуть меньше квартир, площадь каторых составила 50-60кв.м - 17%.<br/>\n",
    "Далее процент снижается: <br/>\n",
    "60-70кв.м - 12% <br/>\n",
    "70-80кв.м - 8% <br/>\n",
    "80-90кв.м - 5% <br/>\n",
    "90-100кв.м - 3% <br/>\n",
    "\n",
    "\n",
    "Самая популярная площадь квартир около 50-ти квадратных метров, по всей выборке.<br/>\n",
    "Квартиры площадью в 25кв.м. и меньше можно встретить так же редко, как квартиры с площадью в 100 кв.м.<br/>\n",
    "    <br/>"
   ]
  },
  {
   "cell_type": "markdown",
   "metadata": {},
   "source": [
    "На стоимость квартиры больше всего влияет её расположение и общая площадь.<br/>\n",
    "Стоимость квартиры чаще всего находится в промежутке от 2млн.рублей до 8млн.рублей, что составляет 80% всех объявлений.<br/>\n",
    "Цена на квартиры на первом этаже ниже прочих, дороже - квартиры на верхних этажах, самые дорогие - не первый, не последний.<br/>\n",
    "Цены на квартиры плавно снижались до 2017 года, но после этого начали расти.    <br/>\n",
    "В меньшей степени на цену влияет день недели и месяц, когда было выставлено объявление о продаже.<br/>\n",
    "<br/>\n",
    "Обычно время продажи квартиры составляет около 100 дней.<br/>\n",
    "Нормальным показателем является продажа в промежутке от 45 дней до 232 дней.<br/>\n",
    "\n",
    "Квартиры в центре:\n",
    "- существенно больше, средний показатель - 83кв.м. (50кв.м. по всей таблице)\n",
    "- существенно дороже, средний показатель - 12,7млн.р. (6.5млн.р по всей таблице)\n",
    "- количество комнат в квартирах в центре в среднем больше - 3 (2 по всей таблице)\n",
    "- потолки в центре выше - 3м (2.65м по всей таблице)\n",
    "\n",
    "\n",
    "Самая дорогая недвижимость в городах Санкт-Петербург и Пушкин.<br/>\n",
    "Самые дешевые квартиры из топ-10 населенных пунктов датасета - в Выборге."
   ]
  }
 ],
 "metadata": {
  "kernelspec": {
   "display_name": "Python 3",
   "language": "python",
   "name": "python3"
  },
  "language_info": {
   "codemirror_mode": {
    "name": "ipython",
    "version": 3
   },
   "file_extension": ".py",
   "mimetype": "text/x-python",
   "name": "python",
   "nbconvert_exporter": "python",
   "pygments_lexer": "ipython3",
   "version": "3.8.3"
  }
 },
 "nbformat": 4,
 "nbformat_minor": 2
}
